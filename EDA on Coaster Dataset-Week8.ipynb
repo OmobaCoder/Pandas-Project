{
 "cells": [
  {
   "cell_type": "markdown",
   "id": "ed4b6775",
   "metadata": {},
   "source": [
    "## Week 8 Pandas Data in Motion Challenge by Prince Ogwu"
   ]
  },
  {
   "cell_type": "code",
   "execution_count": 104,
   "id": "f5339c5f",
   "metadata": {},
   "outputs": [],
   "source": [
    " # Read from a csv into pandas DataFrame object\n",
    "missing_values = ['N/a', 'na', np.nan]\n",
    "path = ('C:/datasets/coaster_db.csv')\n",
    "df_coaster = pd.read_csv(path, na_values = missing_values)"
   ]
  },
  {
   "cell_type": "code",
   "execution_count": 137,
   "id": "3bc8f700",
   "metadata": {},
   "outputs": [],
   "source": [
    "#Import required library\n",
    "import os\n",
    "import statistics as st\n",
    "import matplotlib.pyplot as plt #For visualization\n",
    "import numpy as np #Working with Arrays\n",
    "import pandas as pd #For data manipulation & analysis\n",
    "import seaborn as sb # library for visualization\n",
    "%matplotlib inline\n",
    "\n",
    "# to suppress warnings\n",
    "import warnings\n",
    "warnings.filterwarnings('ignore')"
   ]
  },
  {
   "cell_type": "markdown",
   "id": "f2e95233",
   "metadata": {},
   "source": [
    "## 1. How many columns and rows are in the dataset?"
   ]
  },
  {
   "cell_type": "code",
   "execution_count": 5,
   "id": "fa1a536e",
   "metadata": {},
   "outputs": [
    {
     "data": {
      "text/plain": [
       "(1087, 56)"
      ]
     },
     "execution_count": 5,
     "metadata": {},
     "output_type": "execute_result"
    }
   ],
   "source": [
    "df_coaster.shape"
   ]
  },
  {
   "cell_type": "code",
   "execution_count": 50,
   "id": "1924d1e1",
   "metadata": {},
   "outputs": [
    {
     "name": "stdout",
     "output_type": "stream",
     "text": [
      "Number of Columns: 56\n"
     ]
    }
   ],
   "source": [
    "# The number of columns in the dataset\n",
    "cols=len(df_coaster.axes[1])\n",
    "print(\"Number of Columns: \"+str(cols))"
   ]
  },
  {
   "cell_type": "code",
   "execution_count": 51,
   "id": "f83ae095",
   "metadata": {},
   "outputs": [
    {
     "name": "stdout",
     "output_type": "stream",
     "text": [
      "Number of rows: 1087\n"
     ]
    }
   ],
   "source": [
    "# The number of rows in the dataset\n",
    "rows=len(df_coaster.axes[0])\n",
    "print(\"Number of rows: \"+str(rows))"
   ]
  },
  {
   "cell_type": "markdown",
   "id": "c7978cb9",
   "metadata": {},
   "source": [
    " ## 1. Is there any missing data?"
   ]
  },
  {
   "cell_type": "code",
   "execution_count": 6,
   "id": "e1a3406b",
   "metadata": {},
   "outputs": [
    {
     "data": {
      "text/plain": [
       "True"
      ]
     },
     "execution_count": 6,
     "metadata": {},
     "output_type": "execute_result"
    }
   ],
   "source": [
    "# Confirm if we have missing value\n",
    "df_coaster.isna().values.any()\n",
    "\n",
    "# Yes there are missing values"
   ]
  },
  {
   "cell_type": "markdown",
   "id": "6928bfb8",
   "metadata": {},
   "source": [
    "## 3. Display the summary statistics of the numeric columns using the describe method."
   ]
  },
  {
   "cell_type": "code",
   "execution_count": 10,
   "id": "1f1dcb8d",
   "metadata": {},
   "outputs": [
    {
     "data": {
      "text/html": [
       "<div>\n",
       "<style scoped>\n",
       "    .dataframe tbody tr th:only-of-type {\n",
       "        vertical-align: middle;\n",
       "    }\n",
       "\n",
       "    .dataframe tbody tr th {\n",
       "        vertical-align: top;\n",
       "    }\n",
       "\n",
       "    .dataframe thead th {\n",
       "        text-align: right;\n",
       "    }\n",
       "</style>\n",
       "<table border=\"1\" class=\"dataframe\">\n",
       "  <thead>\n",
       "    <tr style=\"text-align: right;\">\n",
       "      <th></th>\n",
       "      <th>count</th>\n",
       "      <th>mean</th>\n",
       "      <th>std</th>\n",
       "      <th>min</th>\n",
       "      <th>25%</th>\n",
       "      <th>50%</th>\n",
       "      <th>75%</th>\n",
       "      <th>max</th>\n",
       "    </tr>\n",
       "  </thead>\n",
       "  <tbody>\n",
       "    <tr>\n",
       "      <th>Inversions</th>\n",
       "      <td>932.0</td>\n",
       "      <td>1.547210</td>\n",
       "      <td>2.114073</td>\n",
       "      <td>0.0000</td>\n",
       "      <td>0.00000</td>\n",
       "      <td>0.0000</td>\n",
       "      <td>3.0000</td>\n",
       "      <td>14.0000</td>\n",
       "    </tr>\n",
       "    <tr>\n",
       "      <th>year_introduced</th>\n",
       "      <td>1087.0</td>\n",
       "      <td>1994.986201</td>\n",
       "      <td>23.475248</td>\n",
       "      <td>1884.0000</td>\n",
       "      <td>1989.00000</td>\n",
       "      <td>2000.0000</td>\n",
       "      <td>2010.0000</td>\n",
       "      <td>2022.0000</td>\n",
       "    </tr>\n",
       "    <tr>\n",
       "      <th>latitude</th>\n",
       "      <td>812.0</td>\n",
       "      <td>38.373484</td>\n",
       "      <td>15.516596</td>\n",
       "      <td>-48.2617</td>\n",
       "      <td>35.03105</td>\n",
       "      <td>40.2898</td>\n",
       "      <td>44.7996</td>\n",
       "      <td>63.2309</td>\n",
       "    </tr>\n",
       "    <tr>\n",
       "      <th>longitude</th>\n",
       "      <td>812.0</td>\n",
       "      <td>-41.595373</td>\n",
       "      <td>72.285227</td>\n",
       "      <td>-123.0357</td>\n",
       "      <td>-84.55220</td>\n",
       "      <td>-76.6536</td>\n",
       "      <td>2.7781</td>\n",
       "      <td>153.4265</td>\n",
       "    </tr>\n",
       "    <tr>\n",
       "      <th>speed1_value</th>\n",
       "      <td>937.0</td>\n",
       "      <td>53.850374</td>\n",
       "      <td>23.385518</td>\n",
       "      <td>5.0000</td>\n",
       "      <td>40.00000</td>\n",
       "      <td>50.0000</td>\n",
       "      <td>63.0000</td>\n",
       "      <td>240.0000</td>\n",
       "    </tr>\n",
       "    <tr>\n",
       "      <th>speed_mph</th>\n",
       "      <td>937.0</td>\n",
       "      <td>48.617289</td>\n",
       "      <td>16.678031</td>\n",
       "      <td>5.0000</td>\n",
       "      <td>37.30000</td>\n",
       "      <td>49.7000</td>\n",
       "      <td>58.0000</td>\n",
       "      <td>149.1000</td>\n",
       "    </tr>\n",
       "    <tr>\n",
       "      <th>height_value</th>\n",
       "      <td>965.0</td>\n",
       "      <td>89.575171</td>\n",
       "      <td>136.246444</td>\n",
       "      <td>4.0000</td>\n",
       "      <td>44.00000</td>\n",
       "      <td>79.0000</td>\n",
       "      <td>113.0000</td>\n",
       "      <td>3937.0000</td>\n",
       "    </tr>\n",
       "    <tr>\n",
       "      <th>height_ft</th>\n",
       "      <td>171.0</td>\n",
       "      <td>101.996491</td>\n",
       "      <td>67.329092</td>\n",
       "      <td>13.1000</td>\n",
       "      <td>51.80000</td>\n",
       "      <td>91.2000</td>\n",
       "      <td>131.2000</td>\n",
       "      <td>377.3000</td>\n",
       "    </tr>\n",
       "    <tr>\n",
       "      <th>Inversions_clean</th>\n",
       "      <td>1087.0</td>\n",
       "      <td>1.326587</td>\n",
       "      <td>2.030854</td>\n",
       "      <td>0.0000</td>\n",
       "      <td>0.00000</td>\n",
       "      <td>0.0000</td>\n",
       "      <td>2.0000</td>\n",
       "      <td>14.0000</td>\n",
       "    </tr>\n",
       "    <tr>\n",
       "      <th>Gforce_clean</th>\n",
       "      <td>362.0</td>\n",
       "      <td>3.824006</td>\n",
       "      <td>0.989998</td>\n",
       "      <td>0.8000</td>\n",
       "      <td>3.40000</td>\n",
       "      <td>4.0000</td>\n",
       "      <td>4.5000</td>\n",
       "      <td>12.0000</td>\n",
       "    </tr>\n",
       "  </tbody>\n",
       "</table>\n",
       "</div>"
      ],
      "text/plain": [
       "                   count         mean         std        min         25%  \\\n",
       "Inversions         932.0     1.547210    2.114073     0.0000     0.00000   \n",
       "year_introduced   1087.0  1994.986201   23.475248  1884.0000  1989.00000   \n",
       "latitude           812.0    38.373484   15.516596   -48.2617    35.03105   \n",
       "longitude          812.0   -41.595373   72.285227  -123.0357   -84.55220   \n",
       "speed1_value       937.0    53.850374   23.385518     5.0000    40.00000   \n",
       "speed_mph          937.0    48.617289   16.678031     5.0000    37.30000   \n",
       "height_value       965.0    89.575171  136.246444     4.0000    44.00000   \n",
       "height_ft          171.0   101.996491   67.329092    13.1000    51.80000   \n",
       "Inversions_clean  1087.0     1.326587    2.030854     0.0000     0.00000   \n",
       "Gforce_clean       362.0     3.824006    0.989998     0.8000     3.40000   \n",
       "\n",
       "                        50%        75%        max  \n",
       "Inversions           0.0000     3.0000    14.0000  \n",
       "year_introduced   2000.0000  2010.0000  2022.0000  \n",
       "latitude            40.2898    44.7996    63.2309  \n",
       "longitude          -76.6536     2.7781   153.4265  \n",
       "speed1_value        50.0000    63.0000   240.0000  \n",
       "speed_mph           49.7000    58.0000   149.1000  \n",
       "height_value        79.0000   113.0000  3937.0000  \n",
       "height_ft           91.2000   131.2000   377.3000  \n",
       "Inversions_clean     0.0000     2.0000    14.0000  \n",
       "Gforce_clean         4.0000     4.5000    12.0000  "
      ]
     },
     "execution_count": 10,
     "metadata": {},
     "output_type": "execute_result"
    }
   ],
   "source": [
    "# Check the summary of  numeric columns\n",
    "df_coaster.describe().transpose()"
   ]
  },
  {
   "cell_type": "markdown",
   "id": "aa27e39c",
   "metadata": {},
   "source": [
    "## 4.    Rename the following columns:\n",
    "       -  coaster_name  ➡️  Coaster_Name\n",
    "       - year_introduced ➡️ Year_Introduced\n",
    "       - opening_date_clean ➡️ Opening_Date\n",
    "       - speed_mph ➡️ Speed_mph\n",
    "       - height_ft ➡️ Height_ft\n",
    "       - Inversions_clean ➡️ Inversions\n",
    "       - Gforce_clean ➡️ Gforce"
   ]
  },
  {
   "cell_type": "code",
   "execution_count": 192,
   "id": "117227c1",
   "metadata": {},
   "outputs": [],
   "source": [
    "# Rename a feature in the dataFrame\n",
    "\n",
    "df_coaster.rename(columns = { 'coaster_name':'Coaster_Name',\n",
    "                             'year_introduced': 'Year_Introduced',\n",
    "                             'opening_date_clean': 'Opening_Date',\n",
    "                             'speed_mph': 'Speed_mph',\n",
    "                             'height_ft': 'Height_ft',\n",
    "                             'Inversions_clean': 'Inversions',\n",
    "                             'Gforce_clean':'Gforce'\n",
    "    \n",
    "}, inplace = True )\n",
    "\n",
    "#df_coaster.columns.to_list()"
   ]
  },
  {
   "cell_type": "markdown",
   "id": "b2c10732",
   "metadata": {},
   "source": [
    "## 5.   Are there any duplicated rows?"
   ]
  },
  {
   "cell_type": "code",
   "execution_count": 12,
   "id": "3158c965",
   "metadata": {},
   "outputs": [
    {
     "data": {
      "text/plain": [
       "False"
      ]
     },
     "execution_count": 12,
     "metadata": {},
     "output_type": "execute_result"
    }
   ],
   "source": [
    "# Checking for duplicated rows\n",
    "df_coaster.duplicated().values.any()\n",
    "\n",
    "# There are no duplicated rows."
   ]
  },
  {
   "cell_type": "markdown",
   "id": "091f63e7",
   "metadata": {},
   "source": [
    "##  6.    What are the top 3 years with the most roller coasters introduced?\n",
    "\n",
    "\n"
   ]
  },
  {
   "cell_type": "code",
   "execution_count": 140,
   "id": "ac27d1d7",
   "metadata": {},
   "outputs": [
    {
     "data": {
      "text/plain": [
       "Year_Introduced\n",
       "1999    49\n",
       "2000    47\n",
       "1998    32\n",
       "Name: Coaster_Name, dtype: int64"
      ]
     },
     "execution_count": 140,
     "metadata": {},
     "output_type": "execute_result"
    }
   ],
   "source": [
    "# df_coaster.Year_Introduced.head(3)\n",
    "top_Coaster= df_coaster.groupby('Year_Introduced')['Coaster_Name'].count().sort_values(ascending= False).head(3)\n",
    "top_Coaster"
   ]
  },
  {
   "cell_type": "markdown",
   "id": "3d1ce485",
   "metadata": {},
   "source": [
    "## 7.    What is the average speed? Also display a plot to show it's distribution."
   ]
  },
  {
   "cell_type": "code",
   "execution_count": 47,
   "id": "61247053",
   "metadata": {},
   "outputs": [
    {
     "name": "stdout",
     "output_type": "stream",
     "text": [
      "The Average speed is:  53.85\n"
     ]
    }
   ],
   "source": [
    "avg_Speed = df_coaster['speed1_value'].mean()\n",
    "print(f'The Average speed is: {avg_Speed: .2f}')"
   ]
  },
  {
   "cell_type": "code",
   "execution_count": 48,
   "id": "5b40e648",
   "metadata": {},
   "outputs": [
    {
     "data": {
      "text/plain": [
       "<AxesSubplot:ylabel='Density'>"
      ]
     },
     "execution_count": 48,
     "metadata": {},
     "output_type": "execute_result"
    },
    {
     "data": {
      "image/png": "[encoded data removed]",
      "text/plain": [
       "<Figure size 640x480 with 1 Axes>"
      ]
     },
     "metadata": {},
     "output_type": "display_data"
    }
   ],
   "source": [
    "pd.DataFrame(df_coaster['speed1_value']).plot(kind ='density')"
   ]
  },
  {
   "cell_type": "code",
   "execution_count": null,
   "id": "70046e34",
   "metadata": {},
   "outputs": [],
   "source": []
  },
  {
   "cell_type": "markdown",
   "id": "9745ade2",
   "metadata": {},
   "source": [
    "## 8.  Explore the feature relationships. Are there any positively or negatively correlated relationships?"
   ]
  },
  {
   "cell_type": "code",
   "execution_count": 18,
   "id": "d0550828",
   "metadata": {},
   "outputs": [
    {
     "data": {
      "text/html": [
       "<div>\n",
       "<style scoped>\n",
       "    .dataframe tbody tr th:only-of-type {\n",
       "        vertical-align: middle;\n",
       "    }\n",
       "\n",
       "    .dataframe tbody tr th {\n",
       "        vertical-align: top;\n",
       "    }\n",
       "\n",
       "    .dataframe thead th {\n",
       "        text-align: right;\n",
       "    }\n",
       "</style>\n",
       "<table border=\"1\" class=\"dataframe\">\n",
       "  <thead>\n",
       "    <tr style=\"text-align: right;\">\n",
       "      <th></th>\n",
       "      <th>Inversions</th>\n",
       "      <th>Year_Introduced</th>\n",
       "      <th>latitude</th>\n",
       "      <th>longitude</th>\n",
       "      <th>speed1_value</th>\n",
       "      <th>Speed_mph</th>\n",
       "      <th>height_value</th>\n",
       "      <th>Height_ft</th>\n",
       "      <th>Inversions</th>\n",
       "      <th>Gforce</th>\n",
       "    </tr>\n",
       "  </thead>\n",
       "  <tbody>\n",
       "    <tr>\n",
       "      <th>Inversions</th>\n",
       "      <td>1.000000</td>\n",
       "      <td>0.211003</td>\n",
       "      <td>-0.009815</td>\n",
       "      <td>0.061589</td>\n",
       "      <td>0.163419</td>\n",
       "      <td>0.252209</td>\n",
       "      <td>0.094811</td>\n",
       "      <td>0.171330</td>\n",
       "      <td>1.000000</td>\n",
       "      <td>0.356865</td>\n",
       "    </tr>\n",
       "    <tr>\n",
       "      <th>Year_Introduced</th>\n",
       "      <td>0.211003</td>\n",
       "      <td>1.000000</td>\n",
       "      <td>-0.070982</td>\n",
       "      <td>0.175913</td>\n",
       "      <td>0.210191</td>\n",
       "      <td>0.204853</td>\n",
       "      <td>0.087687</td>\n",
       "      <td>0.232150</td>\n",
       "      <td>0.228758</td>\n",
       "      <td>-0.066657</td>\n",
       "    </tr>\n",
       "    <tr>\n",
       "      <th>latitude</th>\n",
       "      <td>-0.009815</td>\n",
       "      <td>-0.070982</td>\n",
       "      <td>1.000000</td>\n",
       "      <td>-0.298488</td>\n",
       "      <td>-0.121847</td>\n",
       "      <td>-0.063757</td>\n",
       "      <td>-0.004265</td>\n",
       "      <td>0.011492</td>\n",
       "      <td>-0.014043</td>\n",
       "      <td>0.042871</td>\n",
       "    </tr>\n",
       "    <tr>\n",
       "      <th>longitude</th>\n",
       "      <td>0.061589</td>\n",
       "      <td>0.175913</td>\n",
       "      <td>-0.298488</td>\n",
       "      <td>1.000000</td>\n",
       "      <td>0.301179</td>\n",
       "      <td>0.051063</td>\n",
       "      <td>-0.092764</td>\n",
       "      <td>0.159733</td>\n",
       "      <td>0.087160</td>\n",
       "      <td>0.016485</td>\n",
       "    </tr>\n",
       "    <tr>\n",
       "      <th>speed1_value</th>\n",
       "      <td>0.163419</td>\n",
       "      <td>0.210191</td>\n",
       "      <td>-0.121847</td>\n",
       "      <td>0.301179</td>\n",
       "      <td>1.000000</td>\n",
       "      <td>0.851667</td>\n",
       "      <td>0.088761</td>\n",
       "      <td>0.815103</td>\n",
       "      <td>0.176105</td>\n",
       "      <td>0.379962</td>\n",
       "    </tr>\n",
       "    <tr>\n",
       "      <th>Speed_mph</th>\n",
       "      <td>0.252209</td>\n",
       "      <td>0.204853</td>\n",
       "      <td>-0.063757</td>\n",
       "      <td>0.051063</td>\n",
       "      <td>0.851667</td>\n",
       "      <td>1.000000</td>\n",
       "      <td>0.241461</td>\n",
       "      <td>0.829404</td>\n",
       "      <td>0.265763</td>\n",
       "      <td>0.489337</td>\n",
       "    </tr>\n",
       "    <tr>\n",
       "      <th>height_value</th>\n",
       "      <td>0.094811</td>\n",
       "      <td>0.087687</td>\n",
       "      <td>-0.004265</td>\n",
       "      <td>-0.092764</td>\n",
       "      <td>0.088761</td>\n",
       "      <td>0.241461</td>\n",
       "      <td>1.000000</td>\n",
       "      <td>1.000000</td>\n",
       "      <td>0.108199</td>\n",
       "      <td>0.337386</td>\n",
       "    </tr>\n",
       "    <tr>\n",
       "      <th>Height_ft</th>\n",
       "      <td>0.171330</td>\n",
       "      <td>0.232150</td>\n",
       "      <td>0.011492</td>\n",
       "      <td>0.159733</td>\n",
       "      <td>0.815103</td>\n",
       "      <td>0.829404</td>\n",
       "      <td>1.000000</td>\n",
       "      <td>1.000000</td>\n",
       "      <td>0.164246</td>\n",
       "      <td>0.475020</td>\n",
       "    </tr>\n",
       "    <tr>\n",
       "      <th>Inversions</th>\n",
       "      <td>1.000000</td>\n",
       "      <td>0.228758</td>\n",
       "      <td>-0.014043</td>\n",
       "      <td>0.087160</td>\n",
       "      <td>0.176105</td>\n",
       "      <td>0.265763</td>\n",
       "      <td>0.108199</td>\n",
       "      <td>0.164246</td>\n",
       "      <td>1.000000</td>\n",
       "      <td>0.345106</td>\n",
       "    </tr>\n",
       "    <tr>\n",
       "      <th>Gforce</th>\n",
       "      <td>0.356865</td>\n",
       "      <td>-0.066657</td>\n",
       "      <td>0.042871</td>\n",
       "      <td>0.016485</td>\n",
       "      <td>0.379962</td>\n",
       "      <td>0.489337</td>\n",
       "      <td>0.337386</td>\n",
       "      <td>0.475020</td>\n",
       "      <td>0.345106</td>\n",
       "      <td>1.000000</td>\n",
       "    </tr>\n",
       "  </tbody>\n",
       "</table>\n",
       "</div>"
      ],
      "text/plain": [
       "                 Inversions  Year_Introduced  latitude  longitude  \\\n",
       "Inversions         1.000000         0.211003 -0.009815   0.061589   \n",
       "Year_Introduced    0.211003         1.000000 -0.070982   0.175913   \n",
       "latitude          -0.009815        -0.070982  1.000000  -0.298488   \n",
       "longitude          0.061589         0.175913 -0.298488   1.000000   \n",
       "speed1_value       0.163419         0.210191 -0.121847   0.301179   \n",
       "Speed_mph          0.252209         0.204853 -0.063757   0.051063   \n",
       "height_value       0.094811         0.087687 -0.004265  -0.092764   \n",
       "Height_ft          0.171330         0.232150  0.011492   0.159733   \n",
       "Inversions         1.000000         0.228758 -0.014043   0.087160   \n",
       "Gforce             0.356865        -0.066657  0.042871   0.016485   \n",
       "\n",
       "                 speed1_value  Speed_mph  height_value  Height_ft  Inversions  \\\n",
       "Inversions           0.163419   0.252209      0.094811   0.171330    1.000000   \n",
       "Year_Introduced      0.210191   0.204853      0.087687   0.232150    0.228758   \n",
       "latitude            -0.121847  -0.063757     -0.004265   0.011492   -0.014043   \n",
       "longitude            0.301179   0.051063     -0.092764   0.159733    0.087160   \n",
       "speed1_value         1.000000   0.851667      0.088761   0.815103    0.176105   \n",
       "Speed_mph            0.851667   1.000000      0.241461   0.829404    0.265763   \n",
       "height_value         0.088761   0.241461      1.000000   1.000000    0.108199   \n",
       "Height_ft            0.815103   0.829404      1.000000   1.000000    0.164246   \n",
       "Inversions           0.176105   0.265763      0.108199   0.164246    1.000000   \n",
       "Gforce               0.379962   0.489337      0.337386   0.475020    0.345106   \n",
       "\n",
       "                   Gforce  \n",
       "Inversions       0.356865  \n",
       "Year_Introduced -0.066657  \n",
       "latitude         0.042871  \n",
       "longitude        0.016485  \n",
       "speed1_value     0.379962  \n",
       "Speed_mph        0.489337  \n",
       "height_value     0.337386  \n",
       "Height_ft        0.475020  \n",
       "Inversions       0.345106  \n",
       "Gforce           1.000000  "
      ]
     },
     "execution_count": 18,
     "metadata": {},
     "output_type": "execute_result"
    }
   ],
   "source": [
    "df_coaster.corr().transpose()"
   ]
  },
  {
   "cell_type": "markdown",
   "id": "7e26f227",
   "metadata": {},
   "source": [
    "## 9.   Create your own question and answer it."
   ]
  },
  {
   "cell_type": "code",
   "execution_count": 49,
   "id": "97726d64",
   "metadata": {},
   "outputs": [
    {
     "data": {
      "text/plain": [
       "Coaster_Name                        0\n",
       "Length                            134\n",
       "Speed                             150\n",
       "Location                            0\n",
       "Status                            213\n",
       "Opening date                      250\n",
       "Type                                0\n",
       "Manufacturer                       59\n",
       "Height restriction                256\n",
       "Model                             343\n",
       "Height                            122\n",
       "Inversions                        155\n",
       "Lift/launch system                292\n",
       "Cost                              705\n",
       "Trains                            369\n",
       "Park section                      600\n",
       "Duration                          322\n",
       "Capacity                          512\n",
       "G-force                           725\n",
       "Designer                          509\n",
       "Max vertical angle                730\n",
       "Drop                              593\n",
       "Soft opening date                 991\n",
       "Fast Lane available              1018\n",
       "Replaced                          914\n",
       "Track layout                      752\n",
       "Fastrack available               1068\n",
       "Soft opening date.1               991\n",
       "Closing date                      851\n",
       "Opened                           1060\n",
       "Replaced by                       999\n",
       "Website                          1000\n",
       "Flash Pass Available             1037\n",
       "Must transfer from wheelchair     981\n",
       "Theme                            1043\n",
       "Single rider line available      1006\n",
       "Restraint Style                  1065\n",
       "Flash Pass available             1041\n",
       "Acceleration                     1027\n",
       "Restraints                       1063\n",
       "Name                             1052\n",
       "Year_Introduced                     0\n",
       "latitude                          275\n",
       "longitude                         275\n",
       "Type_Main                           0\n",
       "Opening_Date                      250\n",
       "speed1                            150\n",
       "speed2                            152\n",
       "speed1_value                      150\n",
       "speed1_unit                       150\n",
       "Speed_mph                         150\n",
       "height_value                      122\n",
       "height_unit                       122\n",
       "Height_ft                         916\n",
       "Inversions                          0\n",
       "Gforce                            725\n",
       "dtype: int64"
      ]
     },
     "execution_count": 49,
     "metadata": {},
     "output_type": "execute_result"
    }
   ],
   "source": [
    "#Check the total number of features with missing values\n",
    "df_coaster.isna().sum()"
   ]
  },
  {
   "cell_type": "markdown",
   "id": "40cb2dac",
   "metadata": {},
   "source": [
    "## Remove the Soft opening date 1 column"
   ]
  },
  {
   "cell_type": "code",
   "execution_count": 65,
   "id": "8c2ad311",
   "metadata": {},
   "outputs": [
    {
     "name": "stdout",
     "output_type": "stream",
     "text": [
      "Column successfully deleted\n"
     ]
    }
   ],
   "source": [
    "# Drop Soft opening date.1 Column\n",
    "df_coaster.drop('Soft opening date.1', inplace=True, axis=1)\n",
    "print('Column successfully deleted')"
   ]
  },
  {
   "cell_type": "code",
   "execution_count": 176,
   "id": "c9c4367d",
   "metadata": {},
   "outputs": [
    {
     "name": "stdout",
     "output_type": "stream",
     "text": [
      "Column successfully deleted\n"
     ]
    }
   ],
   "source": [
    "\n",
    "df_coaster.drop('Opening date', inplace=True, axis=1)\n",
    "print('Column successfully deleted')"
   ]
  },
  {
   "cell_type": "markdown",
   "id": "84f06127",
   "metadata": {},
   "source": [
    "## Speed1 value has 150 Missing values,fill the missing values with the mean"
   ]
  },
  {
   "cell_type": "code",
   "execution_count": 120,
   "id": "be651c55",
   "metadata": {},
   "outputs": [],
   "source": [
    "x= df_coaster['speed1_value'].mean()\n",
    "df_coaster['speed1_value'].fillna(value=x, inplace=True)"
   ]
  },
  {
   "cell_type": "code",
   "execution_count": 121,
   "id": "d5d6e0a2",
   "metadata": {},
   "outputs": [
    {
     "data": {
      "text/plain": [
       "0        6.000000\n",
       "1       53.850374\n",
       "2       53.850374\n",
       "3       53.850374\n",
       "4       53.850374\n",
       "          ...    \n",
       "1082    53.000000\n",
       "1083    73.000000\n",
       "1084    59.300000\n",
       "1085    34.000000\n",
       "1086    58.000000\n",
       "Name: speed1_value, Length: 1087, dtype: float64"
      ]
     },
     "execution_count": 121,
     "metadata": {},
     "output_type": "execute_result"
    }
   ],
   "source": [
    "df_coaster['speed1_value']"
   ]
  },
  {
   "cell_type": "code",
   "execution_count": 122,
   "id": "d3a22ef5",
   "metadata": {},
   "outputs": [
    {
     "data": {
      "text/plain": [
       "0"
      ]
     },
     "execution_count": 122,
     "metadata": {},
     "output_type": "execute_result"
    }
   ],
   "source": [
    "df_coaster['speed1_value'].isna().sum()"
   ]
  },
  {
   "cell_type": "markdown",
   "id": "91fb08ae",
   "metadata": {},
   "source": [
    "## visualize speed1_value column using density plot"
   ]
  },
  {
   "cell_type": "code",
   "execution_count": 152,
   "id": "98421671",
   "metadata": {},
   "outputs": [
    {
     "data": {
      "text/plain": [
       "<AxesSubplot:ylabel='Density'>"
      ]
     },
     "execution_count": 152,
     "metadata": {},
     "output_type": "execute_result"
    },
    {
     "data": {
      "image/png": "[encoded data removed]",
      "text/plain": [
       "<Figure size 640x480 with 1 Axes>"
      ]
     },
     "metadata": {},
     "output_type": "display_data"
    }
   ],
   "source": [
    "pd.DataFrame(df_coaster['speed1_value']).plot(kind ='density')"
   ]
  },
  {
   "cell_type": "code",
   "execution_count": 177,
   "id": "79b96b4f",
   "metadata": {
    "scrolled": true
   },
   "outputs": [
    {
     "data": {
      "text/plain": [
       "Coaster_Name                      object\n",
       "Length                            object\n",
       "Speed                             object\n",
       "Location                          object\n",
       "Status                            object\n",
       "Type                              object\n",
       "Manufacturer                      object\n",
       "Height restriction                object\n",
       "Model                             object\n",
       "Height                            object\n",
       "Inversions                       float64\n",
       "Lift/launch system                object\n",
       "Cost                              object\n",
       "Trains                            object\n",
       "Park section                      object\n",
       "Duration                          object\n",
       "Capacity                          object\n",
       "G-force                           object\n",
       "Designer                          object\n",
       "Max vertical angle                object\n",
       "Drop                              object\n",
       "Soft opening date                 object\n",
       "Fast Lane available               object\n",
       "Replaced                          object\n",
       "Track layout                      object\n",
       "Fastrack available                object\n",
       "Soft opening date.1               object\n",
       "Closing date                      object\n",
       "Opened                            object\n",
       "Replaced by                       object\n",
       "Website                           object\n",
       "Flash Pass Available              object\n",
       "Must transfer from wheelchair     object\n",
       "Theme                             object\n",
       "Single rider line available       object\n",
       "Restraint Style                   object\n",
       "Flash Pass available              object\n",
       "Acceleration                      object\n",
       "Restraints                        object\n",
       "Name                              object\n",
       "Year_Introduced                    int64\n",
       "latitude                         float64\n",
       "longitude                        float64\n",
       "Type_Main                         object\n",
       "Opening_Date                      object\n",
       "speed1                            object\n",
       "speed2                            object\n",
       "speed1_value                     float64\n",
       "speed1_unit                       object\n",
       "Speed_mph                        float64\n",
       "height_value                     float64\n",
       "height_unit                       object\n",
       "Height_ft                        float64\n",
       "Inversions                         int64\n",
       "Gforce                           float64\n",
       "dtype: object"
      ]
     },
     "execution_count": 177,
     "metadata": {},
     "output_type": "execute_result"
    }
   ],
   "source": [
    "#Check for Data-type of DataFrame\n",
    "df_coaster.dtypes"
   ]
  },
  {
   "cell_type": "code",
   "execution_count": 191,
   "id": "8b0f89db",
   "metadata": {},
   "outputs": [
    {
     "data": {
      "text/plain": [
       "0      1884-06-16\n",
       "1      1895-01-01\n",
       "2             NaT\n",
       "3      1901-01-01\n",
       "4      1901-01-01\n",
       "          ...    \n",
       "1082          NaT\n",
       "1083   2022-01-01\n",
       "1084   2016-06-16\n",
       "1085          NaT\n",
       "1086   2022-01-01\n",
       "Name: Opening_Date, Length: 1087, dtype: datetime64[ns]"
      ]
     },
     "execution_count": 191,
     "metadata": {},
     "output_type": "execute_result"
    }
   ],
   "source": [
    "#Change the Opening Date type to Datetime\n",
    "df_coaster['Opening_Date']= pd.to_datetime(df_coaster['Opening_Date'])\n",
    "\n",
    "df_coaster.Opening_Date"
   ]
  },
  {
   "cell_type": "markdown",
   "id": "20bd3d02",
   "metadata": {},
   "source": [
    "# Plot a heatmap of missing values"
   ]
  },
  {
   "cell_type": "code",
   "execution_count": 190,
   "id": "92f82b7a",
   "metadata": {},
   "outputs": [
    {
     "data": {
      "text/plain": [
       "<AxesSubplot:>"
      ]
     },
     "execution_count": 190,
     "metadata": {},
     "output_type": "execute_result"
    },
    {
     "data": {
      "image/png": "[encoded data removed]",
      "text/plain": [
       "<Figure size 640x480 with 2 Axes>"
      ]
     },
     "metadata": {},
     "output_type": "display_data"
    }
   ],
   "source": [
    "sb.heatmap(df_coaster.isna(), yticklabels=False)"
   ]
  }
 ],
 "metadata": {
  "kernelspec": {
   "display_name": "Python 3 (ipykernel)",
   "language": "python",
   "name": "python3"
  },
  "language_info": {
   "codemirror_mode": {
    "name": "ipython",
    "version": 3
   },
   "file_extension": ".py",
   "mimetype": "text/x-python",
   "name": "python",
   "nbconvert_exporter": "python",
   "pygments_lexer": "ipython3",
   "version": "3.9.13"
  }
 },
 "nbformat": 4,
 "nbformat_minor": 5
}
