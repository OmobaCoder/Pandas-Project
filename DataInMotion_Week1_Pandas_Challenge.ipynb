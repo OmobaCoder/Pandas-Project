{
 "cells": [
  {
   "cell_type": "code",
   "execution_count": 265,
   "id": "a9b7e878",
   "metadata": {},
   "outputs": [],
   "source": [
    "# Prince Ogwu\n",
    "#Introduction To Pandas Week1\n",
    "\n",
    "#https://www.linkedin.com/in/prince-ogwu/"
   ]
  },
  {
   "cell_type": "code",
   "execution_count": null,
   "id": "06dc2ef3",
   "metadata": {},
   "outputs": [],
   "source": [
    "Questions1. Which was the most-ordered item?\n",
    "Questions2. For the most-ordered item, how many items were ordered?\n",
    "Questions3. What was the most ordered item in the choice_description column?\n",
    "Questions4. How many items were ordered in total?\n",
    "Questions5. Turn the item price into a float\n",
    "Questions6. How much was the revenue for the period in the dataset?\n",
    "Questions7. How many orders were made in the period?\n",
    "Questions8. What is the average revenue amount per order?\n",
    "Questions9. How many different items are sold?"
   ]
  },
  {
   "cell_type": "code",
   "execution_count": null,
   "id": "cfec1197",
   "metadata": {},
   "outputs": [],
   "source": []
  },
  {
   "cell_type": "code",
   "execution_count": 183,
   "id": "3ad659a5",
   "metadata": {},
   "outputs": [
    {
     "name": "stdout",
     "output_type": "stream",
     "text": [
      "Sucesfully imported neccessary library\n"
     ]
    }
   ],
   "source": [
    "%matplotlib inline\n",
    "import pandas as pd\n",
    "import matplotlib.pyplot as plt\n",
    "import numpy as np\n",
    "from scipy import stats\n",
    "\n",
    "print('Sucesfully imported neccessary library')\n"
   ]
  },
  {
   "cell_type": "code",
   "execution_count": null,
   "id": "34e34da6",
   "metadata": {},
   "outputs": [],
   "source": []
  },
  {
   "cell_type": "markdown",
   "id": "d496b4bc",
   "metadata": {},
   "source": [
    "url= 'https://raw.githubusercontent.com/justmarkham/DAT8/master/data/chipotle.tsv'\n",
    "chipo = pd.read_csv(url, sep = '\\t')"
   ]
  },
  {
   "cell_type": "code",
   "execution_count": 185,
   "id": "2745d46b",
   "metadata": {},
   "outputs": [],
   "source": [
    "# Reading data from remote link\n",
    "url = \"https://bit.ly/2UUomN0\"\n",
    "chipo = pd.read_csv(url, sep = '\\t')\n"
   ]
  },
  {
   "cell_type": "code",
   "execution_count": 196,
   "id": "7dbd06b4",
   "metadata": {},
   "outputs": [
    {
     "name": "stdout",
     "output_type": "stream",
     "text": [
      "<class 'pandas.core.frame.DataFrame'>\n",
      "RangeIndex: 4622 entries, 0 to 4621\n",
      "Data columns (total 5 columns):\n",
      " #   Column              Non-Null Count  Dtype  \n",
      "---  ------              --------------  -----  \n",
      " 0   order_id            4622 non-null   int64  \n",
      " 1   quantity            4622 non-null   int64  \n",
      " 2   item_name           4622 non-null   object \n",
      " 3   choice_description  3376 non-null   object \n",
      " 4   item_price          4622 non-null   float64\n",
      "dtypes: float64(1), int64(2), object(2)\n",
      "memory usage: 180.7+ KB\n"
     ]
    }
   ],
   "source": [
    "#Get information about our dataFrame\n",
    "chipo.info()"
   ]
  },
  {
   "cell_type": "code",
   "execution_count": 39,
   "id": "6ba9d956",
   "metadata": {},
   "outputs": [
    {
     "data": {
      "text/html": [
       "<div>\n",
       "<style scoped>\n",
       "    .dataframe tbody tr th:only-of-type {\n",
       "        vertical-align: middle;\n",
       "    }\n",
       "\n",
       "    .dataframe tbody tr th {\n",
       "        vertical-align: top;\n",
       "    }\n",
       "\n",
       "    .dataframe thead th {\n",
       "        text-align: right;\n",
       "    }\n",
       "</style>\n",
       "<table border=\"1\" class=\"dataframe\">\n",
       "  <thead>\n",
       "    <tr style=\"text-align: right;\">\n",
       "      <th></th>\n",
       "      <th>order_id</th>\n",
       "      <th>quantity</th>\n",
       "      <th>item_name</th>\n",
       "      <th>choice_description</th>\n",
       "      <th>item_price</th>\n",
       "    </tr>\n",
       "  </thead>\n",
       "  <tbody>\n",
       "    <tr>\n",
       "      <th>0</th>\n",
       "      <td>1</td>\n",
       "      <td>1</td>\n",
       "      <td>Chips and Fresh Tomato Salsa</td>\n",
       "      <td>NaN</td>\n",
       "      <td>$2.39</td>\n",
       "    </tr>\n",
       "    <tr>\n",
       "      <th>1</th>\n",
       "      <td>1</td>\n",
       "      <td>1</td>\n",
       "      <td>Izze</td>\n",
       "      <td>[Clementine]</td>\n",
       "      <td>$3.39</td>\n",
       "    </tr>\n",
       "    <tr>\n",
       "      <th>2</th>\n",
       "      <td>1</td>\n",
       "      <td>1</td>\n",
       "      <td>Nantucket Nectar</td>\n",
       "      <td>[Apple]</td>\n",
       "      <td>$3.39</td>\n",
       "    </tr>\n",
       "    <tr>\n",
       "      <th>3</th>\n",
       "      <td>1</td>\n",
       "      <td>1</td>\n",
       "      <td>Chips and Tomatillo-Green Chili Salsa</td>\n",
       "      <td>NaN</td>\n",
       "      <td>$2.39</td>\n",
       "    </tr>\n",
       "    <tr>\n",
       "      <th>4</th>\n",
       "      <td>2</td>\n",
       "      <td>2</td>\n",
       "      <td>Chicken Bowl</td>\n",
       "      <td>[Tomatillo-Red Chili Salsa (Hot), [Black Beans...</td>\n",
       "      <td>$16.98</td>\n",
       "    </tr>\n",
       "    <tr>\n",
       "      <th>5</th>\n",
       "      <td>3</td>\n",
       "      <td>1</td>\n",
       "      <td>Chicken Bowl</td>\n",
       "      <td>[Fresh Tomato Salsa (Mild), [Rice, Cheese, Sou...</td>\n",
       "      <td>$10.98</td>\n",
       "    </tr>\n",
       "    <tr>\n",
       "      <th>6</th>\n",
       "      <td>3</td>\n",
       "      <td>1</td>\n",
       "      <td>Side of Chips</td>\n",
       "      <td>NaN</td>\n",
       "      <td>$1.69</td>\n",
       "    </tr>\n",
       "    <tr>\n",
       "      <th>7</th>\n",
       "      <td>4</td>\n",
       "      <td>1</td>\n",
       "      <td>Steak Burrito</td>\n",
       "      <td>[Tomatillo Red Chili Salsa, [Fajita Vegetables...</td>\n",
       "      <td>$11.75</td>\n",
       "    </tr>\n",
       "    <tr>\n",
       "      <th>8</th>\n",
       "      <td>4</td>\n",
       "      <td>1</td>\n",
       "      <td>Steak Soft Tacos</td>\n",
       "      <td>[Tomatillo Green Chili Salsa, [Pinto Beans, Ch...</td>\n",
       "      <td>$9.25</td>\n",
       "    </tr>\n",
       "    <tr>\n",
       "      <th>9</th>\n",
       "      <td>5</td>\n",
       "      <td>1</td>\n",
       "      <td>Steak Burrito</td>\n",
       "      <td>[Fresh Tomato Salsa, [Rice, Black Beans, Pinto...</td>\n",
       "      <td>$9.25</td>\n",
       "    </tr>\n",
       "  </tbody>\n",
       "</table>\n",
       "</div>"
      ],
      "text/plain": [
       "   order_id  quantity                              item_name  \\\n",
       "0         1         1           Chips and Fresh Tomato Salsa   \n",
       "1         1         1                                   Izze   \n",
       "2         1         1                       Nantucket Nectar   \n",
       "3         1         1  Chips and Tomatillo-Green Chili Salsa   \n",
       "4         2         2                           Chicken Bowl   \n",
       "5         3         1                           Chicken Bowl   \n",
       "6         3         1                          Side of Chips   \n",
       "7         4         1                          Steak Burrito   \n",
       "8         4         1                       Steak Soft Tacos   \n",
       "9         5         1                          Steak Burrito   \n",
       "\n",
       "                                  choice_description item_price  \n",
       "0                                                NaN     $2.39   \n",
       "1                                       [Clementine]     $3.39   \n",
       "2                                            [Apple]     $3.39   \n",
       "3                                                NaN     $2.39   \n",
       "4  [Tomatillo-Red Chili Salsa (Hot), [Black Beans...    $16.98   \n",
       "5  [Fresh Tomato Salsa (Mild), [Rice, Cheese, Sou...    $10.98   \n",
       "6                                                NaN     $1.69   \n",
       "7  [Tomatillo Red Chili Salsa, [Fajita Vegetables...    $11.75   \n",
       "8  [Tomatillo Green Chili Salsa, [Pinto Beans, Ch...     $9.25   \n",
       "9  [Fresh Tomato Salsa, [Rice, Black Beans, Pinto...     $9.25   "
      ]
     },
     "execution_count": 39,
     "metadata": {},
     "output_type": "execute_result"
    }
   ],
   "source": [
    "#View top10 rows in our dataframe\n",
    "chipo.head(10)"
   ]
  },
  {
   "cell_type": "code",
   "execution_count": 197,
   "id": "d6d2cc9b",
   "metadata": {},
   "outputs": [
    {
     "data": {
      "text/plain": [
       "59"
      ]
     },
     "execution_count": 197,
     "metadata": {},
     "output_type": "execute_result"
    }
   ],
   "source": [
    "#Checking for duplicates\n",
    "chipo.duplicated().sum()"
   ]
  },
  {
   "cell_type": "code",
   "execution_count": 198,
   "id": "ea332f06",
   "metadata": {},
   "outputs": [],
   "source": [
    "#There are 59 Duplicate rows which would be dropped.\n",
    "chipo.drop_duplicates(keep= 'first', inplace=True)\n"
   ]
  },
  {
   "cell_type": "code",
   "execution_count": 199,
   "id": "ed12e838",
   "metadata": {},
   "outputs": [
    {
     "data": {
      "text/plain": [
       "(4563, 5)"
      ]
     },
     "execution_count": 199,
     "metadata": {},
     "output_type": "execute_result"
    }
   ],
   "source": [
    "chipo.shape"
   ]
  },
  {
   "cell_type": "code",
   "execution_count": 201,
   "id": "c65f5626",
   "metadata": {},
   "outputs": [
    {
     "data": {
      "text/plain": [
       "order_id                 0\n",
       "quantity                 0\n",
       "item_name                0\n",
       "choice_description    1228\n",
       "item_price               0\n",
       "dtype: int64"
      ]
     },
     "execution_count": 201,
     "metadata": {},
     "output_type": "execute_result"
    }
   ],
   "source": [
    "#Chcking our data for missing value\n",
    "chipo.isna().sum()"
   ]
  },
  {
   "cell_type": "markdown",
   "id": "eb64e1d8",
   "metadata": {},
   "source": [
    "## We observe that choice_description has a total of  1228 missing values "
   ]
  },
  {
   "cell_type": "code",
   "execution_count": 202,
   "id": "918e158d",
   "metadata": {},
   "outputs": [],
   "source": [
    "#To continue with this analysis, we have to replace the NaN values with Not Available\n",
    "chipo.fillna('Not Available', inplace=True)\n",
    "\n"
   ]
  },
  {
   "cell_type": "markdown",
   "id": "63e31761",
   "metadata": {},
   "source": [
    "# Questions1. Which was the most-ordered item?"
   ]
  },
  {
   "cell_type": "code",
   "execution_count": 203,
   "id": "42a69952",
   "metadata": {},
   "outputs": [
    {
     "data": {
      "text/plain": [
       "Index(['order_id', 'quantity', 'item_name', 'choice_description',\n",
       "       'item_price'],\n",
       "      dtype='object')"
      ]
     },
     "execution_count": 203,
     "metadata": {},
     "output_type": "execute_result"
    }
   ],
   "source": [
    "chipo.columns"
   ]
  },
  {
   "cell_type": "code",
   "execution_count": 204,
   "id": "aabd2e28",
   "metadata": {},
   "outputs": [
    {
     "data": {
      "text/plain": [
       "0    Chicken Bowl\n",
       "Name: item_name, dtype: object"
      ]
     },
     "execution_count": 204,
     "metadata": {},
     "output_type": "execute_result"
    }
   ],
   "source": [
    "chipo['item_name'].mode()"
   ]
  },
  {
   "cell_type": "markdown",
   "id": "984b9674",
   "metadata": {},
   "source": [
    " ###  Chicken Bowl was the most ordered item "
   ]
  },
  {
   "cell_type": "code",
   "execution_count": null,
   "id": "12bba7e1",
   "metadata": {},
   "outputs": [],
   "source": [
    "# Questions2. For the most-ordered item, how many items were ordered?"
   ]
  },
  {
   "cell_type": "code",
   "execution_count": 73,
   "id": "8ae48c64",
   "metadata": {},
   "outputs": [
    {
     "data": {
      "text/plain": [
       "Index(['order_id', 'quantity', 'item_name', 'choice_description',\n",
       "       'item_price'],\n",
       "      dtype='object')"
      ]
     },
     "execution_count": 73,
     "metadata": {},
     "output_type": "execute_result"
    }
   ],
   "source": [
    "chipo.columns"
   ]
  },
  {
   "cell_type": "code",
   "execution_count": 115,
   "id": "7ab2feef",
   "metadata": {},
   "outputs": [],
   "source": [
    "#chipo['item_name'].value_counts()"
   ]
  },
  {
   "cell_type": "code",
   "execution_count": 113,
   "id": "dab66287",
   "metadata": {},
   "outputs": [
    {
     "data": {
      "text/plain": [
       "item_name\n",
       "Chicken Bowl           752\n",
       "Chicken Burrito        584\n",
       "Chips and Guacamole    501\n",
       "Steak Burrito          383\n",
       "Canned Soft Drink      340\n",
       "Name: quantity, dtype: int64"
      ]
     },
     "execution_count": 113,
     "metadata": {},
     "output_type": "execute_result"
    }
   ],
   "source": [
    "#Most ordered items placed.\n",
    "chipo.groupby(['item_name'])['quantity'].sum().nlargest()\n"
   ]
  },
  {
   "cell_type": "markdown",
   "id": "d979ec84",
   "metadata": {},
   "source": [
    "### Chicken Bowl was the most ordered item and a total of 752 items were placed."
   ]
  },
  {
   "cell_type": "code",
   "execution_count": null,
   "id": "cc7f3e6e",
   "metadata": {},
   "outputs": [],
   "source": [
    "# Questions3. What was the most ordered item in the choice_description column?"
   ]
  },
  {
   "cell_type": "code",
   "execution_count": 263,
   "id": "cff4257a",
   "metadata": {},
   "outputs": [
    {
     "data": {
      "text/plain": [
       "choice_description\n",
       "Not Available                                                             1228\n",
       "[Diet Coke]                                                                133\n",
       "[Coke]                                                                     115\n",
       "[Sprite]                                                                    77\n",
       "[Fresh Tomato Salsa, [Rice, Black Beans, Cheese, Sour Cream, Lettuce]]      41\n",
       "Name: quantity, dtype: int64"
      ]
     },
     "execution_count": 263,
     "metadata": {},
     "output_type": "execute_result"
    }
   ],
   "source": [
    "#Most ordered items placed.\n",
    "\n",
    "chipo.groupby(['choice_description'])['quantity'].count().nlargest()\n"
   ]
  },
  {
   "cell_type": "code",
   "execution_count": null,
   "id": "99ece7a4",
   "metadata": {},
   "outputs": [],
   "source": [
    "The most ordered item in the choice_description column is Diet Coke with  133 orders placed."
   ]
  },
  {
   "cell_type": "code",
   "execution_count": null,
   "id": "d86fa1e9",
   "metadata": {},
   "outputs": [],
   "source": []
  },
  {
   "cell_type": "code",
   "execution_count": null,
   "id": "bdafa0dc",
   "metadata": {},
   "outputs": [],
   "source": [
    "# Questions4. How many items were ordered in total?"
   ]
  },
  {
   "cell_type": "code",
   "execution_count": 233,
   "id": "575e2765",
   "metadata": {},
   "outputs": [
    {
     "data": {
      "text/plain": [
       "4913"
      ]
     },
     "execution_count": 233,
     "metadata": {},
     "output_type": "execute_result"
    }
   ],
   "source": [
    "chipo.quantity.sum()"
   ]
  },
  {
   "cell_type": "code",
   "execution_count": null,
   "id": "5f65b619",
   "metadata": {},
   "outputs": [],
   "source": [
    "# Questions 5. Turn the item price into a float"
   ]
  },
  {
   "cell_type": "code",
   "execution_count": null,
   "id": "ad0beb05",
   "metadata": {},
   "outputs": [],
   "source": [
    "  \"\"\" #convert points column from object to float\n",
    "chipo['item_price'] = chipo['item_price'].astype(float)\n",
    "\n",
    "#view updated DataFrame\n",
    "print(chipo) \"\"\""
   ]
  },
  {
   "cell_type": "code",
   "execution_count": null,
   "id": "0554459b",
   "metadata": {},
   "outputs": [],
   "source": [
    "chipo['item_price'] = chipo['item_price'].apply(lambda x: float(x.split()[0].replace('$', '')))\n"
   ]
  },
  {
   "cell_type": "code",
   "execution_count": 235,
   "id": "cc2709d3",
   "metadata": {},
   "outputs": [
    {
     "name": "stdout",
     "output_type": "stream",
     "text": [
      "<class 'pandas.core.frame.DataFrame'>\n",
      "Int64Index: 4563 entries, 0 to 4621\n",
      "Data columns (total 5 columns):\n",
      " #   Column              Non-Null Count  Dtype  \n",
      "---  ------              --------------  -----  \n",
      " 0   order_id            4563 non-null   int64  \n",
      " 1   quantity            4563 non-null   int64  \n",
      " 2   item_name           4563 non-null   object \n",
      " 3   choice_description  4563 non-null   object \n",
      " 4   item_price          4563 non-null   float64\n",
      "dtypes: float64(1), int64(2), object(2)\n",
      "memory usage: 213.9+ KB\n"
     ]
    }
   ],
   "source": [
    "chipo.info()"
   ]
  },
  {
   "cell_type": "code",
   "execution_count": null,
   "id": "0e1ed003",
   "metadata": {},
   "outputs": [],
   "source": []
  },
  {
   "cell_type": "code",
   "execution_count": null,
   "id": "a00b746f",
   "metadata": {},
   "outputs": [],
   "source": [
    "Questions6. How much was the revenue for the period in the dataset?"
   ]
  },
  {
   "cell_type": "code",
   "execution_count": 221,
   "id": "74417e6a",
   "metadata": {},
   "outputs": [
    {
     "name": "stdout",
     "output_type": "stream",
     "text": [
      "Total revenue generated is 34177.25\n"
     ]
    }
   ],
   "source": [
    "revenue= chipo.item_price.sum()\n",
    "\n",
    "print(f'Total revenue generated is {revenue}')"
   ]
  },
  {
   "cell_type": "code",
   "execution_count": null,
   "id": "6002086b",
   "metadata": {},
   "outputs": [],
   "source": []
  },
  {
   "cell_type": "code",
   "execution_count": null,
   "id": "454e3ea8",
   "metadata": {},
   "outputs": [],
   "source": [
    "Questions7. How many orders were made in the period?"
   ]
  },
  {
   "cell_type": "code",
   "execution_count": 220,
   "id": "42097879",
   "metadata": {},
   "outputs": [
    {
     "name": "stdout",
     "output_type": "stream",
     "text": [
      "Total orders made in the period is 4563\n"
     ]
    }
   ],
   "source": [
    "orders_placed= len(chipo.item_name)\n",
    "\n",
    "print(f'Total orders made in the period is {orders_placed}')"
   ]
  },
  {
   "cell_type": "code",
   "execution_count": null,
   "id": "c5bf6cbe",
   "metadata": {},
   "outputs": [],
   "source": []
  },
  {
   "cell_type": "code",
   "execution_count": null,
   "id": "4780604f",
   "metadata": {},
   "outputs": [],
   "source": [
    "#Questions8. What is the average revenue amount per order?"
   ]
  },
  {
   "cell_type": "code",
   "execution_count": 218,
   "id": "422765b3",
   "metadata": {},
   "outputs": [
    {
     "data": {
      "text/plain": [
       "7.490083278544817"
      ]
     },
     "execution_count": 218,
     "metadata": {},
     "output_type": "execute_result"
    }
   ],
   "source": [
    "average_amount_per_order = revenue/orders_placed\n",
    "average_amount_per_order"
   ]
  },
  {
   "cell_type": "code",
   "execution_count": null,
   "id": "ff01a010",
   "metadata": {},
   "outputs": [],
   "source": [
    "#Questions9. How many different items are sold?"
   ]
  },
  {
   "cell_type": "code",
   "execution_count": 143,
   "id": "07bed7b1",
   "metadata": {},
   "outputs": [
    {
     "data": {
      "text/plain": [
       "50"
      ]
     },
     "execution_count": 143,
     "metadata": {},
     "output_type": "execute_result"
    }
   ],
   "source": [
    " chipo.item_name.nunique()\n"
   ]
  },
  {
   "cell_type": "code",
   "execution_count": null,
   "id": "2f01ca0d",
   "metadata": {},
   "outputs": [],
   "source": []
  }
 ],
 "metadata": {
  "kernelspec": {
   "display_name": "Python 3 (ipykernel)",
   "language": "python",
   "name": "python3"
  },
  "language_info": {
   "codemirror_mode": {
    "name": "ipython",
    "version": 3
   },
   "file_extension": ".py",
   "mimetype": "text/x-python",
   "name": "python",
   "nbconvert_exporter": "python",
   "pygments_lexer": "ipython3",
   "version": "3.9.13"
  }
 },
 "nbformat": 4,
 "nbformat_minor": 5
}
