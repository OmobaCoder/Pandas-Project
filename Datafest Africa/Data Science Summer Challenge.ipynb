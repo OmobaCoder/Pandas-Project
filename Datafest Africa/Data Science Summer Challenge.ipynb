{
 "cells": [
  {
   "cell_type": "markdown",
   "id": "14ff88d4",
   "metadata": {},
   "source": [
    "## Summer 2023 Data Science Intern Challenge \n",
    "By Prince Ogwu"
   ]
  },
  {
   "cell_type": "code",
   "execution_count": 20,
   "id": "2e1bdd7b",
   "metadata": {},
   "outputs": [],
   "source": [
    "# import Librabries\n",
    "import warnings\n",
    "import datetime as dt\n",
    "warnings.filterwarnings(\"ignore\")\n",
    "import pandas as pd\n",
    "import numpy as np\n",
    "import seaborn as sb\n",
    "import datetime\n",
    "import matplotlib.pyplot as plt\n",
    "%matplotlib inline"
   ]
  },
  {
   "cell_type": "code",
   "execution_count": 123,
   "id": "c9c10bb3",
   "metadata": {},
   "outputs": [
    {
     "data": {
      "text/plain": [
       "'C:\\\\Users\\\\USER\\\\Documents\\\\15DC Workspace\\\\Datafest Africa'"
      ]
     },
     "execution_count": 123,
     "metadata": {},
     "output_type": "execute_result"
    }
   ],
   "source": [
    "import os\n",
    "os.getcwd()"
   ]
  },
  {
   "cell_type": "code",
   "execution_count": 157,
   "id": "66f4a95b",
   "metadata": {},
   "outputs": [],
   "source": [
    "path=('2019winter dsc challenge.csv')\n",
    "df_shopify= pd.read_csv(path)"
   ]
  },
  {
   "cell_type": "markdown",
   "id": "1ee8186d",
   "metadata": {},
   "source": [
    "## Question 1: \n",
    "\n",
    "### Given some sample data, write a program to answer the following.\n",
    "On Shopify, we have exactly 100 sneaker shops, and each of these shops sells only one model of shoe. We want to do some analysis of the average order value (AOV). When we look at orders data over a 30 day window, we naively calculate an AOV of $3145.13. Given that we know these shops are selling sneakers, a relatively affordable item, something seems wrong with our analysis.\n",
    "\n",
    "link to the dataset: https://docs.google.com/spreadsheets/d/16i38oonuX1y1g7C_UAmiK9GkY7cS-64DfiDMNiR41LM/edit#gid=0\n",
    " "
   ]
  },
  {
   "cell_type": "markdown",
   "id": "ac9635a9",
   "metadata": {},
   "source": [
    "## A. Think about what could be going wrong with our calculation. Think about a better way to evaluate this data."
   ]
  },
  {
   "cell_type": "code",
   "execution_count": 158,
   "id": "9099ccfa",
   "metadata": {},
   "outputs": [
    {
     "data": {
      "text/html": [
       "<div>\n",
       "<style scoped>\n",
       "    .dataframe tbody tr th:only-of-type {\n",
       "        vertical-align: middle;\n",
       "    }\n",
       "\n",
       "    .dataframe tbody tr th {\n",
       "        vertical-align: top;\n",
       "    }\n",
       "\n",
       "    .dataframe thead th {\n",
       "        text-align: right;\n",
       "    }\n",
       "</style>\n",
       "<table border=\"1\" class=\"dataframe\">\n",
       "  <thead>\n",
       "    <tr style=\"text-align: right;\">\n",
       "      <th></th>\n",
       "      <th>order_id</th>\n",
       "      <th>shop_id</th>\n",
       "      <th>user_id</th>\n",
       "      <th>order_amount</th>\n",
       "      <th>total_items</th>\n",
       "      <th>payment_method</th>\n",
       "      <th>created_at</th>\n",
       "      <th>date</th>\n",
       "      <th>time_order</th>\n",
       "    </tr>\n",
       "  </thead>\n",
       "  <tbody>\n",
       "    <tr>\n",
       "      <th>0</th>\n",
       "      <td>1</td>\n",
       "      <td>53</td>\n",
       "      <td>746</td>\n",
       "      <td>224</td>\n",
       "      <td>2</td>\n",
       "      <td>cash</td>\n",
       "      <td>03/13/2017 12:36</td>\n",
       "      <td>13/03/2017</td>\n",
       "      <td>12:36 PM</td>\n",
       "    </tr>\n",
       "    <tr>\n",
       "      <th>1</th>\n",
       "      <td>2</td>\n",
       "      <td>92</td>\n",
       "      <td>925</td>\n",
       "      <td>90</td>\n",
       "      <td>1</td>\n",
       "      <td>cash</td>\n",
       "      <td>03/03/2017 17:38</td>\n",
       "      <td>03/03/2017</td>\n",
       "      <td>5:38 PM</td>\n",
       "    </tr>\n",
       "    <tr>\n",
       "      <th>2</th>\n",
       "      <td>3</td>\n",
       "      <td>44</td>\n",
       "      <td>861</td>\n",
       "      <td>144</td>\n",
       "      <td>1</td>\n",
       "      <td>cash</td>\n",
       "      <td>03/14/2017 4:23</td>\n",
       "      <td>14/03/2017</td>\n",
       "      <td>4:23 AM</td>\n",
       "    </tr>\n",
       "    <tr>\n",
       "      <th>3</th>\n",
       "      <td>4</td>\n",
       "      <td>18</td>\n",
       "      <td>935</td>\n",
       "      <td>156</td>\n",
       "      <td>1</td>\n",
       "      <td>credit_card</td>\n",
       "      <td>03/26/2017 12:43</td>\n",
       "      <td>26/03/2017</td>\n",
       "      <td>12:43 PM</td>\n",
       "    </tr>\n",
       "    <tr>\n",
       "      <th>4</th>\n",
       "      <td>5</td>\n",
       "      <td>18</td>\n",
       "      <td>883</td>\n",
       "      <td>156</td>\n",
       "      <td>1</td>\n",
       "      <td>credit_card</td>\n",
       "      <td>03/01/2017 4:35</td>\n",
       "      <td>01/03/2017</td>\n",
       "      <td>4:35 AM</td>\n",
       "    </tr>\n",
       "    <tr>\n",
       "      <th>...</th>\n",
       "      <td>...</td>\n",
       "      <td>...</td>\n",
       "      <td>...</td>\n",
       "      <td>...</td>\n",
       "      <td>...</td>\n",
       "      <td>...</td>\n",
       "      <td>...</td>\n",
       "      <td>...</td>\n",
       "      <td>...</td>\n",
       "    </tr>\n",
       "    <tr>\n",
       "      <th>4995</th>\n",
       "      <td>4996</td>\n",
       "      <td>73</td>\n",
       "      <td>993</td>\n",
       "      <td>330</td>\n",
       "      <td>2</td>\n",
       "      <td>debit</td>\n",
       "      <td>03/30/2017 13:47</td>\n",
       "      <td>30/03/2017</td>\n",
       "      <td>1:47 PM</td>\n",
       "    </tr>\n",
       "    <tr>\n",
       "      <th>4996</th>\n",
       "      <td>4997</td>\n",
       "      <td>48</td>\n",
       "      <td>789</td>\n",
       "      <td>234</td>\n",
       "      <td>2</td>\n",
       "      <td>cash</td>\n",
       "      <td>03/16/2017 20:36</td>\n",
       "      <td>16/03/2017</td>\n",
       "      <td>8:36 PM</td>\n",
       "    </tr>\n",
       "    <tr>\n",
       "      <th>4997</th>\n",
       "      <td>4998</td>\n",
       "      <td>56</td>\n",
       "      <td>867</td>\n",
       "      <td>351</td>\n",
       "      <td>3</td>\n",
       "      <td>cash</td>\n",
       "      <td>03/19/2017 5:42</td>\n",
       "      <td>19/03/2017</td>\n",
       "      <td>5:42 AM</td>\n",
       "    </tr>\n",
       "    <tr>\n",
       "      <th>4998</th>\n",
       "      <td>4999</td>\n",
       "      <td>60</td>\n",
       "      <td>825</td>\n",
       "      <td>354</td>\n",
       "      <td>2</td>\n",
       "      <td>credit_card</td>\n",
       "      <td>03/16/2017 14:51</td>\n",
       "      <td>16/03/2017</td>\n",
       "      <td>2:51 PM</td>\n",
       "    </tr>\n",
       "    <tr>\n",
       "      <th>4999</th>\n",
       "      <td>5000</td>\n",
       "      <td>44</td>\n",
       "      <td>734</td>\n",
       "      <td>288</td>\n",
       "      <td>2</td>\n",
       "      <td>debit</td>\n",
       "      <td>03/18/2017 15:48</td>\n",
       "      <td>18/03/2017</td>\n",
       "      <td>3:48 PM</td>\n",
       "    </tr>\n",
       "  </tbody>\n",
       "</table>\n",
       "<p>5000 rows × 9 columns</p>\n",
       "</div>"
      ],
      "text/plain": [
       "      order_id  shop_id  user_id  order_amount  total_items payment_method  \\\n",
       "0            1       53      746           224            2           cash   \n",
       "1            2       92      925            90            1           cash   \n",
       "2            3       44      861           144            1           cash   \n",
       "3            4       18      935           156            1    credit_card   \n",
       "4            5       18      883           156            1    credit_card   \n",
       "...        ...      ...      ...           ...          ...            ...   \n",
       "4995      4996       73      993           330            2          debit   \n",
       "4996      4997       48      789           234            2           cash   \n",
       "4997      4998       56      867           351            3           cash   \n",
       "4998      4999       60      825           354            2    credit_card   \n",
       "4999      5000       44      734           288            2          debit   \n",
       "\n",
       "            created_at        date time_order  \n",
       "0     03/13/2017 12:36  13/03/2017   12:36 PM  \n",
       "1     03/03/2017 17:38  03/03/2017    5:38 PM  \n",
       "2      03/14/2017 4:23  14/03/2017    4:23 AM  \n",
       "3     03/26/2017 12:43  26/03/2017   12:43 PM  \n",
       "4      03/01/2017 4:35  01/03/2017    4:35 AM  \n",
       "...                ...         ...        ...  \n",
       "4995  03/30/2017 13:47  30/03/2017    1:47 PM  \n",
       "4996  03/16/2017 20:36  16/03/2017    8:36 PM  \n",
       "4997   03/19/2017 5:42  19/03/2017    5:42 AM  \n",
       "4998  03/16/2017 14:51  16/03/2017    2:51 PM  \n",
       "4999  03/18/2017 15:48  18/03/2017    3:48 PM  \n",
       "\n",
       "[5000 rows x 9 columns]"
      ]
     },
     "execution_count": 158,
     "metadata": {},
     "output_type": "execute_result"
    }
   ],
   "source": [
    "#run a qucik check on the dataset top 5 and bottom rows\n",
    "df_shopify"
   ]
  },
  {
   "cell_type": "code",
   "execution_count": 163,
   "id": "7d14b128",
   "metadata": {},
   "outputs": [
    {
     "data": {
      "text/html": [
       "<div>\n",
       "<style scoped>\n",
       "    .dataframe tbody tr th:only-of-type {\n",
       "        vertical-align: middle;\n",
       "    }\n",
       "\n",
       "    .dataframe tbody tr th {\n",
       "        vertical-align: top;\n",
       "    }\n",
       "\n",
       "    .dataframe thead th {\n",
       "        text-align: right;\n",
       "    }\n",
       "</style>\n",
       "<table border=\"1\" class=\"dataframe\">\n",
       "  <thead>\n",
       "    <tr style=\"text-align: right;\">\n",
       "      <th></th>\n",
       "      <th>count</th>\n",
       "      <th>mean</th>\n",
       "      <th>std</th>\n",
       "      <th>min</th>\n",
       "      <th>25%</th>\n",
       "      <th>50%</th>\n",
       "      <th>75%</th>\n",
       "      <th>max</th>\n",
       "    </tr>\n",
       "  </thead>\n",
       "  <tbody>\n",
       "    <tr>\n",
       "      <th>order_amount</th>\n",
       "      <td>5000.0</td>\n",
       "      <td>3145.1280</td>\n",
       "      <td>41282.539349</td>\n",
       "      <td>90.0</td>\n",
       "      <td>163.0</td>\n",
       "      <td>284.0</td>\n",
       "      <td>390.0</td>\n",
       "      <td>704000.0</td>\n",
       "    </tr>\n",
       "    <tr>\n",
       "      <th>total_items</th>\n",
       "      <td>5000.0</td>\n",
       "      <td>8.7872</td>\n",
       "      <td>116.320320</td>\n",
       "      <td>1.0</td>\n",
       "      <td>1.0</td>\n",
       "      <td>2.0</td>\n",
       "      <td>3.0</td>\n",
       "      <td>2000.0</td>\n",
       "    </tr>\n",
       "  </tbody>\n",
       "</table>\n",
       "</div>"
      ],
      "text/plain": [
       "               count       mean           std   min    25%    50%    75%  \\\n",
       "order_amount  5000.0  3145.1280  41282.539349  90.0  163.0  284.0  390.0   \n",
       "total_items   5000.0     8.7872    116.320320   1.0    1.0    2.0    3.0   \n",
       "\n",
       "                   max  \n",
       "order_amount  704000.0  \n",
       "total_items     2000.0  "
      ]
     },
     "execution_count": 163,
     "metadata": {},
     "output_type": "execute_result"
    }
   ],
   "source": [
    "df_shopify[['order_amount', 'total_items']].describe().transpose()"
   ]
  },
  {
   "cell_type": "code",
   "execution_count": 140,
   "id": "fead235f",
   "metadata": {},
   "outputs": [
    {
     "data": {
      "text/plain": [
       "<AxesSubplot:xlabel='order_amount'>"
      ]
     },
     "execution_count": 140,
     "metadata": {},
     "output_type": "execute_result"
    },
    {
     "data": {
      "image/png": "[encoded data removed]",
      "text/plain": [
       "<Figure size 640x480 with 1 Axes>"
      ]
     },
     "metadata": {},
     "output_type": "display_data"
    }
   ],
   "source": [
    "sb.boxplot(x= df_shopify['order_amount'])\n",
    "# A box plot"
   ]
  },
  {
   "cell_type": "code",
   "execution_count": 141,
   "id": "87815a78",
   "metadata": {},
   "outputs": [
    {
     "data": {
      "text/plain": [
       "<AxesSubplot:ylabel='Density'>"
      ]
     },
     "execution_count": 141,
     "metadata": {},
     "output_type": "execute_result"
    },
    {
     "data": {
      "image/png": "[encoded data removed]",
      "text/plain": [
       "<Figure size 640x480 with 1 Axes>"
      ]
     },
     "metadata": {},
     "output_type": "display_data"
    }
   ],
   "source": [
    "#Let's use a density plot to drive home our point\n",
    "pd.DataFrame(df_shopify['order_amount']).plot(kind='density')"
   ]
  },
  {
   "cell_type": "markdown",
   "id": "3d4db088",
   "metadata": {},
   "source": [
    "### There is an outlier in the data, the density plot above is completely skewed to the right;\n",
    "\n",
    "- Outliers: There are order_amount with very high value and this has skewed the overall Average value.Removing the outliers from the dataset and recalculating the Average value would give a more accurate picture of the average order value.\n",
    "\n",
    "- Large Order placement: Some items had large demand,and that has equally affected the Average Value and make it appear higher than it actually is. It would be better to take a median instead of mean to check the average order value as median is not affected by large values."
   ]
  },
  {
   "cell_type": "code",
   "execution_count": 162,
   "id": "bb268433",
   "metadata": {},
   "outputs": [
    {
     "data": {
      "text/html": [
       "<div>\n",
       "<style scoped>\n",
       "    .dataframe tbody tr th:only-of-type {\n",
       "        vertical-align: middle;\n",
       "    }\n",
       "\n",
       "    .dataframe tbody tr th {\n",
       "        vertical-align: top;\n",
       "    }\n",
       "\n",
       "    .dataframe thead th {\n",
       "        text-align: right;\n",
       "    }\n",
       "</style>\n",
       "<table border=\"1\" class=\"dataframe\">\n",
       "  <thead>\n",
       "    <tr style=\"text-align: right;\">\n",
       "      <th></th>\n",
       "      <th>order_id</th>\n",
       "      <th>shop_id</th>\n",
       "      <th>user_id</th>\n",
       "      <th>order_amount</th>\n",
       "      <th>total_items</th>\n",
       "      <th>payment_method</th>\n",
       "      <th>date</th>\n",
       "      <th>time_order</th>\n",
       "    </tr>\n",
       "  </thead>\n",
       "  <tbody>\n",
       "    <tr>\n",
       "      <th>15</th>\n",
       "      <td>16</td>\n",
       "      <td>42</td>\n",
       "      <td>607</td>\n",
       "      <td>704000</td>\n",
       "      <td>2000</td>\n",
       "      <td>credit_card</td>\n",
       "      <td>07/03/2017</td>\n",
       "      <td>4:00 AM</td>\n",
       "    </tr>\n",
       "    <tr>\n",
       "      <th>60</th>\n",
       "      <td>61</td>\n",
       "      <td>42</td>\n",
       "      <td>607</td>\n",
       "      <td>704000</td>\n",
       "      <td>2000</td>\n",
       "      <td>credit_card</td>\n",
       "      <td>04/03/2017</td>\n",
       "      <td>4:00 AM</td>\n",
       "    </tr>\n",
       "    <tr>\n",
       "      <th>520</th>\n",
       "      <td>521</td>\n",
       "      <td>42</td>\n",
       "      <td>607</td>\n",
       "      <td>704000</td>\n",
       "      <td>2000</td>\n",
       "      <td>credit_card</td>\n",
       "      <td>02/03/2017</td>\n",
       "      <td>4:00 AM</td>\n",
       "    </tr>\n",
       "    <tr>\n",
       "      <th>691</th>\n",
       "      <td>692</td>\n",
       "      <td>78</td>\n",
       "      <td>878</td>\n",
       "      <td>154350</td>\n",
       "      <td>6</td>\n",
       "      <td>debit</td>\n",
       "      <td>27/03/2017</td>\n",
       "      <td>10:51 PM</td>\n",
       "    </tr>\n",
       "    <tr>\n",
       "      <th>1104</th>\n",
       "      <td>1105</td>\n",
       "      <td>42</td>\n",
       "      <td>607</td>\n",
       "      <td>704000</td>\n",
       "      <td>2000</td>\n",
       "      <td>credit_card</td>\n",
       "      <td>24/03/2017</td>\n",
       "      <td>4:00 AM</td>\n",
       "    </tr>\n",
       "    <tr>\n",
       "      <th>1362</th>\n",
       "      <td>1363</td>\n",
       "      <td>42</td>\n",
       "      <td>607</td>\n",
       "      <td>704000</td>\n",
       "      <td>2000</td>\n",
       "      <td>credit_card</td>\n",
       "      <td>15/03/2017</td>\n",
       "      <td>4:00 AM</td>\n",
       "    </tr>\n",
       "    <tr>\n",
       "      <th>1436</th>\n",
       "      <td>1437</td>\n",
       "      <td>42</td>\n",
       "      <td>607</td>\n",
       "      <td>704000</td>\n",
       "      <td>2000</td>\n",
       "      <td>credit_card</td>\n",
       "      <td>11/03/2017</td>\n",
       "      <td>4:00 AM</td>\n",
       "    </tr>\n",
       "    <tr>\n",
       "      <th>1562</th>\n",
       "      <td>1563</td>\n",
       "      <td>42</td>\n",
       "      <td>607</td>\n",
       "      <td>704000</td>\n",
       "      <td>2000</td>\n",
       "      <td>credit_card</td>\n",
       "      <td>19/03/2017</td>\n",
       "      <td>4:00 AM</td>\n",
       "    </tr>\n",
       "    <tr>\n",
       "      <th>1602</th>\n",
       "      <td>1603</td>\n",
       "      <td>42</td>\n",
       "      <td>607</td>\n",
       "      <td>704000</td>\n",
       "      <td>2000</td>\n",
       "      <td>credit_card</td>\n",
       "      <td>17/03/2017</td>\n",
       "      <td>4:00 AM</td>\n",
       "    </tr>\n",
       "    <tr>\n",
       "      <th>2153</th>\n",
       "      <td>2154</td>\n",
       "      <td>42</td>\n",
       "      <td>607</td>\n",
       "      <td>704000</td>\n",
       "      <td>2000</td>\n",
       "      <td>credit_card</td>\n",
       "      <td>12/03/2017</td>\n",
       "      <td>4:00 AM</td>\n",
       "    </tr>\n",
       "    <tr>\n",
       "      <th>2297</th>\n",
       "      <td>2298</td>\n",
       "      <td>42</td>\n",
       "      <td>607</td>\n",
       "      <td>704000</td>\n",
       "      <td>2000</td>\n",
       "      <td>credit_card</td>\n",
       "      <td>07/03/2017</td>\n",
       "      <td>4:00 AM</td>\n",
       "    </tr>\n",
       "    <tr>\n",
       "      <th>2492</th>\n",
       "      <td>2493</td>\n",
       "      <td>78</td>\n",
       "      <td>834</td>\n",
       "      <td>102900</td>\n",
       "      <td>4</td>\n",
       "      <td>debit</td>\n",
       "      <td>04/03/2017</td>\n",
       "      <td>4:37 AM</td>\n",
       "    </tr>\n",
       "    <tr>\n",
       "      <th>2835</th>\n",
       "      <td>2836</td>\n",
       "      <td>42</td>\n",
       "      <td>607</td>\n",
       "      <td>704000</td>\n",
       "      <td>2000</td>\n",
       "      <td>credit_card</td>\n",
       "      <td>28/03/2017</td>\n",
       "      <td>4:00 AM</td>\n",
       "    </tr>\n",
       "    <tr>\n",
       "      <th>2969</th>\n",
       "      <td>2970</td>\n",
       "      <td>42</td>\n",
       "      <td>607</td>\n",
       "      <td>704000</td>\n",
       "      <td>2000</td>\n",
       "      <td>credit_card</td>\n",
       "      <td>28/03/2017</td>\n",
       "      <td>4:00 AM</td>\n",
       "    </tr>\n",
       "    <tr>\n",
       "      <th>3332</th>\n",
       "      <td>3333</td>\n",
       "      <td>42</td>\n",
       "      <td>607</td>\n",
       "      <td>704000</td>\n",
       "      <td>2000</td>\n",
       "      <td>credit_card</td>\n",
       "      <td>24/03/2017</td>\n",
       "      <td>4:00 AM</td>\n",
       "    </tr>\n",
       "    <tr>\n",
       "      <th>4056</th>\n",
       "      <td>4057</td>\n",
       "      <td>42</td>\n",
       "      <td>607</td>\n",
       "      <td>704000</td>\n",
       "      <td>2000</td>\n",
       "      <td>credit_card</td>\n",
       "      <td>28/03/2017</td>\n",
       "      <td>4:00 AM</td>\n",
       "    </tr>\n",
       "    <tr>\n",
       "      <th>4646</th>\n",
       "      <td>4647</td>\n",
       "      <td>42</td>\n",
       "      <td>607</td>\n",
       "      <td>704000</td>\n",
       "      <td>2000</td>\n",
       "      <td>credit_card</td>\n",
       "      <td>02/03/2017</td>\n",
       "      <td>4:00 AM</td>\n",
       "    </tr>\n",
       "    <tr>\n",
       "      <th>4868</th>\n",
       "      <td>4869</td>\n",
       "      <td>42</td>\n",
       "      <td>607</td>\n",
       "      <td>704000</td>\n",
       "      <td>2000</td>\n",
       "      <td>credit_card</td>\n",
       "      <td>22/03/2017</td>\n",
       "      <td>4:00 AM</td>\n",
       "    </tr>\n",
       "    <tr>\n",
       "      <th>4882</th>\n",
       "      <td>4883</td>\n",
       "      <td>42</td>\n",
       "      <td>607</td>\n",
       "      <td>704000</td>\n",
       "      <td>2000</td>\n",
       "      <td>credit_card</td>\n",
       "      <td>25/03/2017</td>\n",
       "      <td>4:00 AM</td>\n",
       "    </tr>\n",
       "  </tbody>\n",
       "</table>\n",
       "</div>"
      ],
      "text/plain": [
       "      order_id  shop_id  user_id  order_amount  total_items payment_method  \\\n",
       "15          16       42      607        704000         2000    credit_card   \n",
       "60          61       42      607        704000         2000    credit_card   \n",
       "520        521       42      607        704000         2000    credit_card   \n",
       "691        692       78      878        154350            6          debit   \n",
       "1104      1105       42      607        704000         2000    credit_card   \n",
       "1362      1363       42      607        704000         2000    credit_card   \n",
       "1436      1437       42      607        704000         2000    credit_card   \n",
       "1562      1563       42      607        704000         2000    credit_card   \n",
       "1602      1603       42      607        704000         2000    credit_card   \n",
       "2153      2154       42      607        704000         2000    credit_card   \n",
       "2297      2298       42      607        704000         2000    credit_card   \n",
       "2492      2493       78      834        102900            4          debit   \n",
       "2835      2836       42      607        704000         2000    credit_card   \n",
       "2969      2970       42      607        704000         2000    credit_card   \n",
       "3332      3333       42      607        704000         2000    credit_card   \n",
       "4056      4057       42      607        704000         2000    credit_card   \n",
       "4646      4647       42      607        704000         2000    credit_card   \n",
       "4868      4869       42      607        704000         2000    credit_card   \n",
       "4882      4883       42      607        704000         2000    credit_card   \n",
       "\n",
       "            date time_order  \n",
       "15    07/03/2017    4:00 AM  \n",
       "60    04/03/2017    4:00 AM  \n",
       "520   02/03/2017    4:00 AM  \n",
       "691   27/03/2017   10:51 PM  \n",
       "1104  24/03/2017    4:00 AM  \n",
       "1362  15/03/2017    4:00 AM  \n",
       "1436  11/03/2017    4:00 AM  \n",
       "1562  19/03/2017    4:00 AM  \n",
       "1602  17/03/2017    4:00 AM  \n",
       "2153  12/03/2017    4:00 AM  \n",
       "2297  07/03/2017    4:00 AM  \n",
       "2492  04/03/2017    4:37 AM  \n",
       "2835  28/03/2017    4:00 AM  \n",
       "2969  28/03/2017    4:00 AM  \n",
       "3332  24/03/2017    4:00 AM  \n",
       "4056  28/03/2017    4:00 AM  \n",
       "4646  02/03/2017    4:00 AM  \n",
       "4868  22/03/2017    4:00 AM  \n",
       "4882  25/03/2017    4:00 AM  "
      ]
     },
     "execution_count": 162,
     "metadata": {},
     "output_type": "execute_result"
    }
   ],
   "source": [
    "# filter the DataFrame to only show rows where order_amount > 100000\n",
    "df_shopify[df_shopify['order_amount'] > 100000]"
   ]
  },
  {
   "cell_type": "code",
   "execution_count": 189,
   "id": "b5dfea3f",
   "metadata": {},
   "outputs": [
    {
     "name": "stdout",
     "output_type": "stream",
     "text": [
      "Naive AOV: $3145.128\n"
     ]
    }
   ],
   "source": [
    "#Calculate the Average using the naive approach\n",
    "naive_aov = df_shopify[\"order_amount\"].sum() / df_shopify[\"order_id\"].nunique()\n",
    "print(\"Naive AOV: $\" + str(naive_aov))"
   ]
  },
  {
   "cell_type": "code",
   "execution_count": 165,
   "id": "56eb6d9e",
   "metadata": {},
   "outputs": [],
   "source": [
    "# Create a new column that groups the orders by the number of items in the order\n",
    "df_shopify[\"item_count\"] = df_shopify.groupby(\"order_id\")[\"total_items\"].transform(\"count\")\n"
   ]
  },
  {
   "cell_type": "code",
   "execution_count": 190,
   "id": "a083ac5d",
   "metadata": {},
   "outputs": [
    {
     "name": "stdout",
     "output_type": "stream",
     "text": [
      "Corrected AOV: $357.92\n"
     ]
    }
   ],
   "source": [
    "# Calculate the AOV using the total items ordered\n",
    "clean_Aov = df_shopify['order_amount'].sum() / df_shopify['total_items'].sum()\n",
    "print(f'Corrected AOV: ${clean_Aov:.2f}')"
   ]
  },
  {
   "cell_type": "markdown",
   "id": "7b614778",
   "metadata": {},
   "source": [
    "## B. What metric would you report for this dataset?\n"
   ]
  },
  {
   "cell_type": "markdown",
   "id": "e1373fe6",
   "metadata": {},
   "source": [
    "- It's also important to note that the AOV value in itself does not provide a complete picture of the data, as it only gives an idea of the average order value and not the total order amount or items ordered. To gain a more clarity on the data, I have choosen to analyze other metrics such as median order value, median ordered items,unique payment methods used for placing orders,"
   ]
  },
  {
   "cell_type": "code",
   "execution_count": 145,
   "id": "793dc61c",
   "metadata": {},
   "outputs": [
    {
     "data": {
      "text/plain": [
       "284.0"
      ]
     },
     "execution_count": 145,
     "metadata": {},
     "output_type": "execute_result"
    }
   ],
   "source": [
    "#The median order value\n",
    "df_shopify['order_amount'].median()"
   ]
  },
  {
   "cell_type": "code",
   "execution_count": 146,
   "id": "0ac3a936",
   "metadata": {},
   "outputs": [
    {
     "data": {
      "text/plain": [
       "2.0"
      ]
     },
     "execution_count": 146,
     "metadata": {},
     "output_type": "execute_result"
    }
   ],
   "source": [
    "# The median items orederd\n",
    "df_shopify['total_items'].median()"
   ]
  },
  {
   "cell_type": "code",
   "execution_count": 160,
   "id": "533d8edd",
   "metadata": {},
   "outputs": [],
   "source": [
    "#Drop acolumn from the dateframe\n",
    "#df_shopify.drop('created_at', inplace=True, axis=1)"
   ]
  },
  {
   "cell_type": "code",
   "execution_count": 172,
   "id": "67320d39",
   "metadata": {},
   "outputs": [
    {
     "data": {
      "text/html": [
       "<div>\n",
       "<style scoped>\n",
       "    .dataframe tbody tr th:only-of-type {\n",
       "        vertical-align: middle;\n",
       "    }\n",
       "\n",
       "    .dataframe tbody tr th {\n",
       "        vertical-align: top;\n",
       "    }\n",
       "\n",
       "    .dataframe thead th {\n",
       "        text-align: right;\n",
       "    }\n",
       "</style>\n",
       "<table border=\"1\" class=\"dataframe\">\n",
       "  <thead>\n",
       "    <tr style=\"text-align: right;\">\n",
       "      <th></th>\n",
       "      <th>order_id</th>\n",
       "      <th>shop_id</th>\n",
       "      <th>user_id</th>\n",
       "      <th>order_amount</th>\n",
       "      <th>total_items</th>\n",
       "      <th>payment_method</th>\n",
       "      <th>date</th>\n",
       "      <th>time_order</th>\n",
       "      <th>item_count</th>\n",
       "    </tr>\n",
       "  </thead>\n",
       "  <tbody>\n",
       "    <tr>\n",
       "      <th>0</th>\n",
       "      <td>1</td>\n",
       "      <td>53</td>\n",
       "      <td>746</td>\n",
       "      <td>224</td>\n",
       "      <td>2</td>\n",
       "      <td>cash</td>\n",
       "      <td>13/03/2017</td>\n",
       "      <td>12:36 PM</td>\n",
       "      <td>1</td>\n",
       "    </tr>\n",
       "    <tr>\n",
       "      <th>1</th>\n",
       "      <td>2</td>\n",
       "      <td>92</td>\n",
       "      <td>925</td>\n",
       "      <td>90</td>\n",
       "      <td>1</td>\n",
       "      <td>cash</td>\n",
       "      <td>03/03/2017</td>\n",
       "      <td>5:38 PM</td>\n",
       "      <td>1</td>\n",
       "    </tr>\n",
       "    <tr>\n",
       "      <th>2</th>\n",
       "      <td>3</td>\n",
       "      <td>44</td>\n",
       "      <td>861</td>\n",
       "      <td>144</td>\n",
       "      <td>1</td>\n",
       "      <td>cash</td>\n",
       "      <td>14/03/2017</td>\n",
       "      <td>4:23 AM</td>\n",
       "      <td>1</td>\n",
       "    </tr>\n",
       "    <tr>\n",
       "      <th>3</th>\n",
       "      <td>4</td>\n",
       "      <td>18</td>\n",
       "      <td>935</td>\n",
       "      <td>156</td>\n",
       "      <td>1</td>\n",
       "      <td>credit_card</td>\n",
       "      <td>26/03/2017</td>\n",
       "      <td>12:43 PM</td>\n",
       "      <td>1</td>\n",
       "    </tr>\n",
       "    <tr>\n",
       "      <th>4</th>\n",
       "      <td>5</td>\n",
       "      <td>18</td>\n",
       "      <td>883</td>\n",
       "      <td>156</td>\n",
       "      <td>1</td>\n",
       "      <td>credit_card</td>\n",
       "      <td>01/03/2017</td>\n",
       "      <td>4:35 AM</td>\n",
       "      <td>1</td>\n",
       "    </tr>\n",
       "    <tr>\n",
       "      <th>...</th>\n",
       "      <td>...</td>\n",
       "      <td>...</td>\n",
       "      <td>...</td>\n",
       "      <td>...</td>\n",
       "      <td>...</td>\n",
       "      <td>...</td>\n",
       "      <td>...</td>\n",
       "      <td>...</td>\n",
       "      <td>...</td>\n",
       "    </tr>\n",
       "    <tr>\n",
       "      <th>4995</th>\n",
       "      <td>4996</td>\n",
       "      <td>73</td>\n",
       "      <td>993</td>\n",
       "      <td>330</td>\n",
       "      <td>2</td>\n",
       "      <td>debit</td>\n",
       "      <td>30/03/2017</td>\n",
       "      <td>1:47 PM</td>\n",
       "      <td>1</td>\n",
       "    </tr>\n",
       "    <tr>\n",
       "      <th>4996</th>\n",
       "      <td>4997</td>\n",
       "      <td>48</td>\n",
       "      <td>789</td>\n",
       "      <td>234</td>\n",
       "      <td>2</td>\n",
       "      <td>cash</td>\n",
       "      <td>16/03/2017</td>\n",
       "      <td>8:36 PM</td>\n",
       "      <td>1</td>\n",
       "    </tr>\n",
       "    <tr>\n",
       "      <th>4997</th>\n",
       "      <td>4998</td>\n",
       "      <td>56</td>\n",
       "      <td>867</td>\n",
       "      <td>351</td>\n",
       "      <td>3</td>\n",
       "      <td>cash</td>\n",
       "      <td>19/03/2017</td>\n",
       "      <td>5:42 AM</td>\n",
       "      <td>1</td>\n",
       "    </tr>\n",
       "    <tr>\n",
       "      <th>4998</th>\n",
       "      <td>4999</td>\n",
       "      <td>60</td>\n",
       "      <td>825</td>\n",
       "      <td>354</td>\n",
       "      <td>2</td>\n",
       "      <td>credit_card</td>\n",
       "      <td>16/03/2017</td>\n",
       "      <td>2:51 PM</td>\n",
       "      <td>1</td>\n",
       "    </tr>\n",
       "    <tr>\n",
       "      <th>4999</th>\n",
       "      <td>5000</td>\n",
       "      <td>44</td>\n",
       "      <td>734</td>\n",
       "      <td>288</td>\n",
       "      <td>2</td>\n",
       "      <td>debit</td>\n",
       "      <td>18/03/2017</td>\n",
       "      <td>3:48 PM</td>\n",
       "      <td>1</td>\n",
       "    </tr>\n",
       "  </tbody>\n",
       "</table>\n",
       "<p>5000 rows × 9 columns</p>\n",
       "</div>"
      ],
      "text/plain": [
       "      order_id  shop_id  user_id  order_amount  total_items payment_method  \\\n",
       "0            1       53      746           224            2           cash   \n",
       "1            2       92      925            90            1           cash   \n",
       "2            3       44      861           144            1           cash   \n",
       "3            4       18      935           156            1    credit_card   \n",
       "4            5       18      883           156            1    credit_card   \n",
       "...        ...      ...      ...           ...          ...            ...   \n",
       "4995      4996       73      993           330            2          debit   \n",
       "4996      4997       48      789           234            2           cash   \n",
       "4997      4998       56      867           351            3           cash   \n",
       "4998      4999       60      825           354            2    credit_card   \n",
       "4999      5000       44      734           288            2          debit   \n",
       "\n",
       "            date time_order  item_count  \n",
       "0     13/03/2017   12:36 PM           1  \n",
       "1     03/03/2017    5:38 PM           1  \n",
       "2     14/03/2017    4:23 AM           1  \n",
       "3     26/03/2017   12:43 PM           1  \n",
       "4     01/03/2017    4:35 AM           1  \n",
       "...          ...        ...         ...  \n",
       "4995  30/03/2017    1:47 PM           1  \n",
       "4996  16/03/2017    8:36 PM           1  \n",
       "4997  19/03/2017    5:42 AM           1  \n",
       "4998  16/03/2017    2:51 PM           1  \n",
       "4999  18/03/2017    3:48 PM           1  \n",
       "\n",
       "[5000 rows x 9 columns]"
      ]
     },
     "execution_count": 172,
     "metadata": {},
     "output_type": "execute_result"
    }
   ],
   "source": [
    "df_shopify"
   ]
  },
  {
   "cell_type": "code",
   "execution_count": 179,
   "id": "df888f69",
   "metadata": {},
   "outputs": [
    {
     "data": {
      "text/plain": [
       "array(['cash', 'credit_card', 'debit'], dtype=object)"
      ]
     },
     "execution_count": 179,
     "metadata": {},
     "output_type": "execute_result"
    }
   ],
   "source": [
    "#The various payment method used\n",
    "df_shopify['payment_method'].unique()"
   ]
  },
  {
   "cell_type": "code",
   "execution_count": 184,
   "id": "5ec63d53",
   "metadata": {},
   "outputs": [],
   "source": [
    "# filter the DataFrame to only show unique payment_method\n",
    "'''df_shopify[df_shopify['payment_method'] =='cash'].value_counts().sum()'''\n",
    "df= df_shopify[df_shopify['payment_method'].isin(['cash', 'credit_card', 'debit'])]"
   ]
  },
  {
   "cell_type": "code",
   "execution_count": 185,
   "id": "ab9254ec",
   "metadata": {},
   "outputs": [
    {
     "name": "stdout",
     "output_type": "stream",
     "text": [
      "payment_method\n",
      "cash           1594\n",
      "credit_card    1735\n",
      "debit          1671\n",
      "Name: item_count, dtype: int64\n"
     ]
    }
   ],
   "source": [
    "# group the DataFrame by payment_method.\n",
    "df = df.groupby('payment_method')['item_count'].sum()\n",
    "\n",
    "print(df)"
   ]
  },
  {
   "cell_type": "markdown",
   "id": "20e06d2c",
   "metadata": {},
   "source": [
    "## c. What is its value?"
   ]
  },
  {
   "cell_type": "code",
   "execution_count": 192,
   "id": "f829391c",
   "metadata": {},
   "outputs": [
    {
     "data": {
      "text/html": [
       "<div>\n",
       "<style scoped>\n",
       "    .dataframe tbody tr th:only-of-type {\n",
       "        vertical-align: middle;\n",
       "    }\n",
       "\n",
       "    .dataframe tbody tr th {\n",
       "        vertical-align: top;\n",
       "    }\n",
       "\n",
       "    .dataframe thead th {\n",
       "        text-align: right;\n",
       "    }\n",
       "</style>\n",
       "<table border=\"1\" class=\"dataframe\">\n",
       "  <thead>\n",
       "    <tr style=\"text-align: right;\">\n",
       "      <th></th>\n",
       "      <th>order_amount</th>\n",
       "    </tr>\n",
       "  </thead>\n",
       "  <tbody>\n",
       "    <tr>\n",
       "      <th>mean</th>\n",
       "      <td>3145.128</td>\n",
       "    </tr>\n",
       "    <tr>\n",
       "      <th>median</th>\n",
       "      <td>284.000</td>\n",
       "    </tr>\n",
       "  </tbody>\n",
       "</table>\n",
       "</div>"
      ],
      "text/plain": [
       "        order_amount\n",
       "mean        3145.128\n",
       "median       284.000"
      ]
     },
     "execution_count": 192,
     "metadata": {},
     "output_type": "execute_result"
    }
   ],
   "source": [
    "df_shopify.agg({'order_amount':['mean','median']})"
   ]
  },
  {
   "cell_type": "markdown",
   "id": "0d0bfe57",
   "metadata": {},
   "source": [
    "The value of the average order value(AOV) in theis scenario is 3145.13 , as calculated over a 30day window. Since the median orver value is less affected by outlier, the midpoint value will be used. The value is 284.0"
   ]
  },
  {
   "cell_type": "markdown",
   "id": "189e7fac",
   "metadata": {},
   "source": [
    "## Question 2:\n",
    "### For this question you’ll need to use SQL. \n",
    "Please use queries to answer the following questions. Paste your queries along with your final numerical answers below.\n",
    "\n",
    "Link to the sql-lab\n",
    "https://www.w3schools.com/SQL/TRYSQL.ASP?FILENAME=TRYSQL_SELECT_ALL"
   ]
  },
  {
   "cell_type": "markdown",
   "id": "3f250080",
   "metadata": {},
   "source": [
    "## a. How many orders were shipped by Speedy Express in total?\n"
   ]
  },
  {
   "cell_type": "code",
   "execution_count": null,
   "id": "b88b0ad4",
   "metadata": {},
   "outputs": [],
   "source": [
    "#Query\n",
    "SELECT \n",
    "  COUNT(*) As Shipped_Orders \n",
    "FROM \n",
    "  orders \n",
    "  JOIN Shippers ON orders.shipperID = Shippers.ShipperID \n",
    "WHERE \n",
    "  shipperName = 'Speedy Express';\n"
   ]
  },
  {
   "cell_type": "raw",
   "id": "c507c139",
   "metadata": {},
   "source": [
    "#Result\n",
    "Shipped_Orders\n",
    "54"
   ]
  },
  {
   "cell_type": "markdown",
   "id": "f2a79077",
   "metadata": {},
   "source": [
    "## b. What is the last name of the employee with the most orders?\n"
   ]
  },
  {
   "cell_type": "code",
   "execution_count": null,
   "id": "8c378431",
   "metadata": {},
   "outputs": [],
   "source": [
    "#Query\n",
    "SELECT \n",
    "  LastName, \n",
    "  COUNT(*) AS 'Number of Orders' \n",
    "FROM \n",
    "  Employees \n",
    "  JOIN Orders ON Employees.EmployeeID = Orders.EmployeeID \n",
    "  JOIN OrderDetails ON Orders.OrderID = OrderDetails.OrderID \n",
    "GROUP BY \n",
    "  lastName \n",
    "ORDER BY \n",
    "  COUNT(*) DESC \n",
    "LIMIT \n",
    "  1;\n"
   ]
  },
  {
   "cell_type": "raw",
   "id": "bec0a3a3",
   "metadata": {},
   "source": [
    "#Result \n",
    "LastName\tNumber of Orders\n",
    "Peacock\t    123"
   ]
  },
  {
   "cell_type": "markdown",
   "id": "28846398",
   "metadata": {},
   "source": [
    "## c. What product was ordered the most by customers in Germany?"
   ]
  },
  {
   "cell_type": "code",
   "execution_count": null,
   "id": "17064b9e",
   "metadata": {},
   "outputs": [],
   "source": [
    "#Query \n",
    "SELECT \n",
    "  Products.ProductName, \n",
    "  COUNT(OrderDetails.OrderDetailID) as 'Number of Orders' \n",
    "FROM \n",
    "  Products \n",
    "  JOIN orderDetails ON Products.ProductId = OrderDetails.ProductId \n",
    "  JOIN Orders ON OrderDetails.OrderID = Orders.OrderID \n",
    "  JOIN Customers ON Orders.CustomerID = Customers.CustomerID \n",
    "WHERE \n",
    "  customers.Country = 'Germany' \n",
    "GROUP BY \n",
    "  products.productName \n",
    "ORDER BY \n",
    "  COUNT(OrderDetails.productId) DESC \n",
    "LIMIT \n",
    "  1;\n"
   ]
  },
  {
   "cell_type": "raw",
   "id": "679108aa",
   "metadata": {},
   "source": [
    "#Result\n",
    "ProductName\t        Number of Orders\n",
    "Gorgonzola Telino\t  5\n"
   ]
  }
 ],
 "metadata": {
  "kernelspec": {
   "display_name": "Python 3 (ipykernel)",
   "language": "python",
   "name": "python3"
  },
  "language_info": {
   "codemirror_mode": {
    "name": "ipython",
    "version": 3
   },
   "file_extension": ".py",
   "mimetype": "text/x-python",
   "name": "python",
   "nbconvert_exporter": "python",
   "pygments_lexer": "ipython3",
   "version": "3.9.13"
  }
 },
 "nbformat": 4,
 "nbformat_minor": 5
}
